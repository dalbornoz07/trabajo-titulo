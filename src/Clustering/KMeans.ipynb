{
 "cells": [
  {
   "cell_type": "markdown",
   "id": "d73053b6-3c97-4865-b218-f6a134b07830",
   "metadata": {},
   "source": [
    "# Algoritmos no supervisados \n",
    "\n",
    "- KMeans\n",
    "- Hierchical\n",
    "- DBSCAN\n",
    "- Spectral clustering"
   ]
  },
  {
   "cell_type": "code",
   "execution_count": 2,
   "id": "096777fe-d43b-478a-9c41-33a5c017625f",
   "metadata": {},
   "outputs": [],
   "source": [
    "import pandas as pd\n",
    "import numpy as np\n",
    "import matplotlib.pyplot as plt\n",
    "import seaborn as sns\n",
    "%matplotlib inline \n",
    "from sklearn.metrics import silhouette_score, homogeneity_score, v_measure_score, adjusted_rand_score, adjusted_mutual_info_score, completeness_score \n",
    "from sklearn.cluster import KMeans"
   ]
  },
  {
   "cell_type": "code",
   "execution_count": 3,
   "id": "8af2375d-d8cb-486f-afcf-d12556f68a22",
   "metadata": {},
   "outputs": [],
   "source": [
    "def prepare_kmeans(df,start=1,end=15):\n",
    "    clusters=[]\n",
    "    for k in range(start,end):\n",
    "        kmean = KMeans(n_clusters=k,random_state=42,n_init=20,)\n",
    "        kmean.fit(df)\n",
    "        clusters.append(kmean)\n",
    "    return clusters"
   ]
  },
  {
   "cell_type": "code",
   "execution_count": 4,
   "id": "dbdd5c84-77e1-4322-873a-8751a73f18ca",
   "metadata": {},
   "outputs": [],
   "source": [
    "def parametrize(df):\n",
    "    df_new = df.copy()   \n",
    "    for col in df_new.columns:\n",
    "        if  col in ['Apr','Carrera','Campus','Sem']:\n",
    "            continue\n",
    "        try:\n",
    "                decimal =1\n",
    "                cols= pd.to_numeric(df_new[col])\n",
    "                df_new.loc[cols ==0,col]=0\n",
    "                df_new.loc[ (cols<=45/decimal) & (cols>0), col]=1\n",
    "                df_new.loc[ (cols>45/decimal) & (cols <= 55/decimal), col]=2\n",
    "                df_new.loc[ (cols>55/decimal) & (cols <= 65/decimal), col]=3\n",
    "                df_new.loc[ cols > 65/decimal, col]=4\n",
    "        except:\n",
    "                print(name,col)\n",
    "    \n",
    "    return df_new"
   ]
  },
  {
   "cell_type": "code",
   "execution_count": 5,
   "id": "22740d14-a1c8-446b-940d-cce77af6d72d",
   "metadata": {},
   "outputs": [],
   "source": [
    "def parametrize_col(x):\n",
    "    x[x==0] = 0\n",
    "    x[x<=45] =1\n",
    "    x[(x>45) & (x<=55)]=2\n",
    "    x[(x>5) & (x<=65)]=3\n",
    "    x[(x>6)]=4\n",
    "    return x"
   ]
  },
  {
   "cell_type": "code",
   "execution_count": 6,
   "id": "c9756f5d-7c3b-4a66-9abd-67ba3480b9f2",
   "metadata": {},
   "outputs": [],
   "source": [
    "df = pd.read_csv('../All_Rough_data.csv')\n",
    "deptos = df.Depto\n",
    "df.drop(columns=['SM9','SM10','Depto'],inplace=True)"
   ]
  },
  {
   "cell_type": "markdown",
   "id": "731f3b90-25e9-4bd4-b1ea-ffc0b2a1e182",
   "metadata": {},
   "source": [
    "KMeans es susceptible a los datos outliers por lo que para aplicar correctamente este algortimo se deben eliminar los valores outliers"
   ]
  },
  {
   "cell_type": "code",
   "execution_count": 7,
   "id": "ecdd5bc1-163b-4bb8-838f-caa9de2b0144",
   "metadata": {},
   "outputs": [],
   "source": [
    "df_kmeans = df.copy()\n",
    "for i in df.columns:\n",
    "    if  i in ['Apr','Carrera','Campus','Sem']:\n",
    "        continue\n",
    "    q1,q2,q3= df[i].quantile([0.25,0.5,0.75])\n",
    "    IQR = q3-q1\n",
    "    lower_cap = q1-1.5*IQR\n",
    "    upper_cap = q3+1.5*IQR\n",
    "    df_kmeans[i]= df[i].apply(lambda x:upper_cap if x>(upper_cap) else (lower_cap if x< lower_cap else x ))"
   ]
  },
  {
   "cell_type": "code",
   "execution_count": 7,
   "id": "6ce28d28-1f95-45e2-9369-e9fe36b29d17",
   "metadata": {},
   "outputs": [],
   "source": [
    "clusters= prepare_kmeans(parametrize(df_kmeans).values,1,16)"
   ]
  },
  {
   "cell_type": "markdown",
   "id": "c6baa240-4030-4271-bcf8-4b32dc3ad888",
   "metadata": {},
   "source": [
    "## Elbow"
   ]
  },
  {
   "cell_type": "code",
   "execution_count": 30,
   "id": "79df9e68-6b9f-425e-b917-3be695abecf6",
   "metadata": {},
   "outputs": [
    {
     "name": "stdout",
     "output_type": "stream",
     "text": [
      "Collecting yellowbrick\n",
      "  Downloading yellowbrick-1.4-py3-none-any.whl (274 kB)\n",
      "\u001b[2K     \u001b[38;2;114;156;31m━━━━━━━━━━━━━━━━━━━━━━━━━━━━━━━━━━━━━━━\u001b[0m \u001b[32m274.2/274.2 KB\u001b[0m \u001b[31m9.4 MB/s\u001b[0m eta \u001b[36m0:00:00\u001b[0m\n",
      "\u001b[?25hRequirement already satisfied: scikit-learn>=1.0.0 in /home/diego/.pyenv/versions/3.7.2/envs/memoria/lib/python3.7/site-packages (from yellowbrick) (1.0.1)\n",
      "Requirement already satisfied: numpy>=1.16.0 in /home/diego/.pyenv/versions/3.7.2/envs/memoria/lib/python3.7/site-packages (from yellowbrick) (1.21.3)\n",
      "Requirement already satisfied: scipy>=1.0.0 in /home/diego/.pyenv/versions/3.7.2/envs/memoria/lib/python3.7/site-packages (from yellowbrick) (1.7.1)\n",
      "Requirement already satisfied: matplotlib!=3.0.0,>=2.0.2 in /home/diego/.pyenv/versions/3.7.2/envs/memoria/lib/python3.7/site-packages (from yellowbrick) (3.4.3)\n",
      "Requirement already satisfied: cycler>=0.10.0 in /home/diego/.pyenv/versions/3.7.2/envs/memoria/lib/python3.7/site-packages (from yellowbrick) (0.11.0)\n",
      "Requirement already satisfied: pillow>=6.2.0 in /home/diego/.pyenv/versions/3.7.2/envs/memoria/lib/python3.7/site-packages (from matplotlib!=3.0.0,>=2.0.2->yellowbrick) (8.4.0)\n",
      "Requirement already satisfied: pyparsing>=2.2.1 in /home/diego/.pyenv/versions/3.7.2/envs/memoria/lib/python3.7/site-packages (from matplotlib!=3.0.0,>=2.0.2->yellowbrick) (2.4.7)\n",
      "Requirement already satisfied: python-dateutil>=2.7 in /home/diego/.pyenv/versions/3.7.2/envs/memoria/lib/python3.7/site-packages (from matplotlib!=3.0.0,>=2.0.2->yellowbrick) (2.8.2)\n",
      "Requirement already satisfied: kiwisolver>=1.0.1 in /home/diego/.pyenv/versions/3.7.2/envs/memoria/lib/python3.7/site-packages (from matplotlib!=3.0.0,>=2.0.2->yellowbrick) (1.3.2)\n",
      "Requirement already satisfied: threadpoolctl>=2.0.0 in /home/diego/.pyenv/versions/3.7.2/envs/memoria/lib/python3.7/site-packages (from scikit-learn>=1.0.0->yellowbrick) (3.0.0)\n",
      "Requirement already satisfied: joblib>=0.11 in /home/diego/.pyenv/versions/3.7.2/envs/memoria/lib/python3.7/site-packages (from scikit-learn>=1.0.0->yellowbrick) (1.1.0)\n",
      "Requirement already satisfied: six>=1.5 in /home/diego/.pyenv/versions/3.7.2/envs/memoria/lib/python3.7/site-packages (from python-dateutil>=2.7->matplotlib!=3.0.0,>=2.0.2->yellowbrick) (1.16.0)\n",
      "Installing collected packages: yellowbrick\n",
      "Successfully installed yellowbrick-1.4\n"
     ]
    }
   ],
   "source": [
    "!pip install yellowbrick"
   ]
  },
  {
   "cell_type": "code",
   "execution_count": 8,
   "id": "7ba29c6c-4fdb-4913-a519-828aae7a7472",
   "metadata": {},
   "outputs": [],
   "source": [
    "from sklearn.decomposition import PCA"
   ]
  },
  {
   "cell_type": "code",
   "execution_count": 9,
   "id": "21796327-79d1-4ef5-8a9c-815509e1b725",
   "metadata": {},
   "outputs": [
    {
     "data": {
      "text/plain": [
       "PCA()"
      ]
     },
     "execution_count": 9,
     "metadata": {},
     "output_type": "execute_result"
    }
   ],
   "source": [
    "pca = PCA()\n",
    "_df = pd.get_dummies(data=parametrize(df),columns=['Campus','Sexo'])\n",
    "pca.fit(_df)"
   ]
  },
  {
   "cell_type": "code",
   "execution_count": 172,
   "id": "3f6d3e7f-811d-45f2-af9f-83c6a7c71946",
   "metadata": {},
   "outputs": [
    {
     "data": {
      "image/png": "[encoded data removed]",
      "text/plain": [
       "<Figure size 720x576 with 1 Axes>"
      ]
     },
     "metadata": {
      "needs_background": "light"
     },
     "output_type": "display_data"
    }
   ],
   "source": [
    "plt.figure(figsize=(10,8))\n",
    "plt.plot(range(1,_df.shape[1]+1),pca.explained_variance_ratio_.cumsum(),marker='o',linestyle='--')\n",
    "plt.xlabel('Número de componentes',fontdict={'fontsize':14})\n",
    "plt.tick_params(labelsize=13)\n",
    "plt.ylabel('Varianza explicativa acumulada',fontdict={'fontsize':14})\n",
    "plt.xticks(ticks= np.arange(1,_df.shape[1]+1,2))\n",
    "plt.grid()\n",
    "plt.savefig('PCAVariance.png')"
   ]
  },
  {
   "cell_type": "code",
   "execution_count": 10,
   "id": "4e562127-c18b-46c6-80da-a18a85ba96cc",
   "metadata": {},
   "outputs": [],
   "source": [
    "_df = pd.get_dummies(data=parametrize(df_kmeans),columns=['Campus','Sexo'])\n",
    "pca = PCA(n_components=19).fit(_df)\n",
    "scores_pca = pca.transform(_df)"
   ]
  },
  {
   "cell_type": "code",
   "execution_count": 208,
   "id": "00b3da0a-3719-4750-8c99-4229f1f3501a",
   "metadata": {},
   "outputs": [],
   "source": [
    "elbow_pca= [KMeans(n_clusters=i,random_state=42).fit(scores_pca).inertia_ for i in range(1,20)]"
   ]
  },
  {
   "cell_type": "code",
   "execution_count": 209,
   "id": "0d40f095-06d3-49da-9abb-d00282a12f93",
   "metadata": {},
   "outputs": [
    {
     "data": {
      "image/png": "[encoded data removed]",
      "text/plain": [
       "<Figure size 432x288 with 1 Axes>"
      ]
     },
     "metadata": {
      "needs_background": "light"
     },
     "output_type": "display_data"
    }
   ],
   "source": [
    "plt.plot(range(1,20,1), elbow_pca, 'bx-')\n",
    "plt.xlabel('Número de cluster',fontdict={'fontsize':15})\n",
    "plt.ylabel('Distortion',fontdict={'fontsize':15})\n",
    "plt.tick_params(labelsize=12)\n",
    "plt.xticks(ticks=np.arange(1,20,1))\n",
    "plt.grid()\n",
    "plt.savefig('ElbowMethod.png',)"
   ]
  },
  {
   "cell_type": "code",
   "execution_count": 210,
   "id": "6c374867-bf7a-411e-b614-ffd6808da22e",
   "metadata": {},
   "outputs": [],
   "source": [
    "models= [KMeans(n_clusters=i,random_state=42).fit_predict(scores_pca) for i in range(1,20)]\n",
    "sil_scores=[silhouette_score(scores_pca,model) for model in models[1:]]"
   ]
  },
  {
   "cell_type": "code",
   "execution_count": 211,
   "id": "ec854ee4-e1ba-4820-b9d9-c2145e834203",
   "metadata": {},
   "outputs": [
    {
     "data": {
      "image/png": "[encoded data removed]",
      "text/plain": [
       "<Figure size 432x288 with 1 Axes>"
      ]
     },
     "metadata": {
      "needs_background": "light"
     },
     "output_type": "display_data"
    }
   ],
   "source": [
    "plt.plot(range(2,20), sil_scores )\n",
    "plt.xticks(ticks=np.arange(2,20,1))\n",
    "plt.xlabel('Cantidad de clusters',fontdict={'fontsize':13})\n",
    "plt.ylabel('Puntaje Silhouette',fontdict={'fontsize':13})\n",
    "plt.tick_params(labelsize=12)\n",
    "plt.grid()\n",
    "plt.savefig('Silhouette.png')"
   ]
  },
  {
   "cell_type": "code",
   "execution_count": 17,
   "id": "77e94b67-e582-4646-8cf7-19ef48c089e8",
   "metadata": {},
   "outputs": [],
   "source": [
    "km= KMeans(n_clusters=5,random_state=42).fit(scores_pca)\n",
    "centers= km.cluster_centers_\n",
    "labels = km.predict(scores_pca)\n",
    "_df['labels']= labels\n",
    "df['labels']=labels"
   ]
  },
  {
   "cell_type": "code",
   "execution_count": 12,
   "id": "84e9ed73-c7f5-4c0d-ac0f-402357850e20",
   "metadata": {},
   "outputs": [
    {
     "data": {
      "text/plain": [
       "0.23201452432770378"
      ]
     },
     "execution_count": 12,
     "metadata": {},
     "output_type": "execute_result"
    }
   ],
   "source": [
    "silhouette_score(scores_pca,labels)"
   ]
  },
  {
   "cell_type": "code",
   "execution_count": 214,
   "id": "d1d5836f-d686-44ec-b1c3-72c5d1c74965",
   "metadata": {},
   "outputs": [],
   "source": [
    "df_pca = pd.DataFrame(scores_pca)\n",
    "_df['labels']= labels"
   ]
  },
  {
   "cell_type": "code",
   "execution_count": 215,
   "id": "34948ffc-37f5-4e72-93d2-789b21b69110",
   "metadata": {},
   "outputs": [],
   "source": [
    "def undummify(df, prefix_sep=\"_\"):\n",
    "    cols2collapse = {\n",
    "        item.split(prefix_sep)[0]: (prefix_sep in item) for item in df.columns\n",
    "    }\n",
    "    series_list = []\n",
    "    for col, needs_to_collapse in cols2collapse.items():\n",
    "        if needs_to_collapse:\n",
    "            undummified = (\n",
    "                df.filter(like=col)\n",
    "                .idxmax(axis=1)\n",
    "                .apply(lambda x: x.split(prefix_sep, maxsplit=1)[1])\n",
    "                .rename(col)\n",
    "            )\n",
    "            series_list.append(undummified)\n",
    "        else:\n",
    "            series_list.append(df[col])\n",
    "    undummified_df = pd.concat(series_list, axis=1)\n",
    "    return undummified_df\n",
    "\n",
    "_df2=undummify(_df)"
   ]
  },
  {
   "cell_type": "code",
   "execution_count": 216,
   "id": "7ddab6a1-9e49-4db2-8c3a-81535ed56e63",
   "metadata": {},
   "outputs": [],
   "source": [
    "df['labels']=_df2['labels']\n",
    "clusters= _df2.labels.sort_values().unique()"
   ]
  },
  {
   "cell_type": "code",
   "execution_count": 221,
   "id": "fb9421f0-293f-4e1d-8287-83322a37ef6a",
   "metadata": {},
   "outputs": [
    {
     "data": {
      "application/vnd.plotly.v1+json": {
       "config": {
        "plotlyServerURL": "https://plot.ly"
       },
       "data": [
        {
         "name": "Cluster 0",
         "opacity": 0.5,
         "r": [
          54.94444444444444,
          53.48148148148148,
          19.75925925925926,
          75.77283950617284,
          78.64197530864197,
          80.44444444444444,
          72.66666666666667,
          74.5679012345679,
          59.407407407407405,
          69.6041975308642,
          68.85185185185185,
          47.75308641975309,
          68.21234567901234,
          74.05432098765432,
          73.73086419753086,
          73.93827160493827,
          64.41481481481482,
          71.30864197530865,
          69.33086419753086,
          64.07654320987655,
          62.79962962962963,
          56.88148148148148,
          61.35308641975308,
          84.27407407407408,
          89.74074074074075,
          84.98765432098766,
          76.1604938271605,
          83.08466666666666,
          53.65432098765432,
          51.79012345679013,
          67.50617283950618,
          55.03703703703704,
          40.592592592592595,
          16.790123456790123,
          17.696296296296296,
          16.846913580246913,
          16.99506172839506,
          11.518518518518519,
          3.88641975308642,
          5.555555555555555,
          4.592592592592593,
          59.409876543209876,
          54.94444444444444
         ],
         "subplot": "polar",
         "theta": [
          "C1",
          "C2",
          "CR",
          "S1",
          "S2",
          "S3",
          "S4",
          "S5",
          "S6",
          "S7",
          "S8",
          "S9",
          "S10",
          "F1",
          "F2",
          "F3",
          "F4",
          "F5",
          "F6",
          "F7",
          "F8",
          "F9",
          "F10",
          "T1",
          "T2",
          "T3",
          "T4",
          "T5",
          "T6",
          "T7",
          "T8",
          "T9",
          "T10",
          "SM1",
          "SM2",
          "SM3",
          "SM4",
          "SM5",
          "SM6",
          "SM7",
          "SM8",
          "NF"
         ],
         "type": "scatterpolar"
        },
        {
         "name": "Cluster 1",
         "opacity": 0.5,
         "r": [
          44.60232558139535,
          32.62441860465116,
          23.815116279069766,
          71.87209302325581,
          73.74418604651163,
          75.62790697674419,
          66.72093023255815,
          64.30232558139535,
          55.627906976744185,
          60.093023255813954,
          53.26046511627907,
          29.953488372093023,
          61.734883720930235,
          68.54186046511627,
          72.99767441860465,
          71.77906976744185,
          56.30930232558139,
          60.12325581395349,
          56.76046511627907,
          50.646511627906975,
          48.21995348837209,
          48.848837209302324,
          45.825581395348834,
          74.31162790697674,
          84.23255813953489,
          77.62790697674419,
          61.920720930232555,
          66.81451162790697,
          23.08139534883721,
          23.706976744186047,
          40.04651162790697,
          32.44186046511628,
          16.441860465116278,
          29.46511627906977,
          26.51860465116279,
          20.553488372093025,
          16.323255813953487,
          8.365116279069767,
          4.837209302325581,
          6.906976744186046,
          5.627906976744186,
          44.45813953488372,
          44.60232558139535
         ],
         "subplot": "polar2",
         "theta": [
          "C1",
          "C2",
          "CR",
          "S1",
          "S2",
          "S3",
          "S4",
          "S5",
          "S6",
          "S7",
          "S8",
          "S9",
          "S10",
          "F1",
          "F2",
          "F3",
          "F4",
          "F5",
          "F6",
          "F7",
          "F8",
          "F9",
          "F10",
          "T1",
          "T2",
          "T3",
          "T4",
          "T5",
          "T6",
          "T7",
          "T8",
          "T9",
          "T10",
          "SM1",
          "SM2",
          "SM3",
          "SM4",
          "SM5",
          "SM6",
          "SM7",
          "SM8",
          "NF"
         ],
         "type": "scatterpolar"
        },
        {
         "name": "Cluster 2",
         "opacity": 0.5,
         "r": [
          68.75162337662337,
          80.30275974025975,
          9.733766233766234,
          85.51136363636364,
          88.25487012987013,
          89.52922077922078,
          80.56006493506493,
          83.72564935064935,
          75.77922077922078,
          87.27126623376624,
          87.53733766233766,
          64.67532467532467,
          88.73051948051948,
          88.3538961038961,
          87.9448051948052,
          86.59253246753246,
          82.86363636363636,
          87.04058441558442,
          84.24350649350649,
          81.93993506493507,
          85.83603896103897,
          81.87012987012987,
          83.99837662337663,
          92.9448051948052,
          97.14285714285714,
          95.05681818181819,
          94.7734577922078,
          93.41233766233766,
          81.46103896103897,
          83.86688311688312,
          93.01948051948052,
          87.98214285714286,
          84.30194805194805,
          3.7337662337662336,
          3.461038961038961,
          1.7743506493506493,
          2.1103896103896105,
          1.37987012987013,
          2.012987012987013,
          1.6071428571428572,
          0.6493506493506493,
          80.27759740259741,
          68.75162337662337
         ],
         "subplot": "polar3",
         "theta": [
          "C1",
          "C2",
          "CR",
          "S1",
          "S2",
          "S3",
          "S4",
          "S5",
          "S6",
          "S7",
          "S8",
          "S9",
          "S10",
          "F1",
          "F2",
          "F3",
          "F4",
          "F5",
          "F6",
          "F7",
          "F8",
          "F9",
          "F10",
          "T1",
          "T2",
          "T3",
          "T4",
          "T5",
          "T6",
          "T7",
          "T8",
          "T9",
          "T10",
          "SM1",
          "SM2",
          "SM3",
          "SM4",
          "SM5",
          "SM6",
          "SM7",
          "SM8",
          "NF"
         ],
         "type": "scatterpolar"
        },
        {
         "name": "Cluster 3",
         "opacity": 0.5,
         "r": [
          75.15696877380046,
          68.74047981721249,
          12.670982482863671,
          90.34044173648134,
          89.78598629093679,
          91.07387661843107,
          85.13328255902513,
          85.49124143183549,
          75.47829398324448,
          88.77829398324447,
          81.98933739527799,
          74.34881949733435,
          90.53998476770754,
          88.28103579588728,
          92.78979436405179,
          92.7974105102818,
          87.74333587204875,
          89.84082254379284,
          88.66184310738767,
          87.56892612338157,
          86.61362528560548,
          87.000761614623,
          88.10967250571211,
          95.14851485148515,
          96.73267326732673,
          93.23153084539223,
          88.00642041127189,
          93.32673267326733,
          77.26884996191927,
          82.52170601675552,
          88.47296268088347,
          86.3023610053313,
          70.02208682406702,
          91.67936024371667,
          95.17364813404417,
          94.66031987814166,
          93.6945925361767,
          93.76542269611576,
          86.7128712871287,
          86.85453160700685,
          82.95811119573496,
          79.3483117542498,
          75.15696877380046
         ],
         "subplot": "polar4",
         "theta": [
          "C1",
          "C2",
          "CR",
          "S1",
          "S2",
          "S3",
          "S4",
          "S5",
          "S6",
          "S7",
          "S8",
          "S9",
          "S10",
          "F1",
          "F2",
          "F3",
          "F4",
          "F5",
          "F6",
          "F7",
          "F8",
          "F9",
          "F10",
          "T1",
          "T2",
          "T3",
          "T4",
          "T5",
          "T6",
          "T7",
          "T8",
          "T9",
          "T10",
          "SM1",
          "SM2",
          "SM3",
          "SM4",
          "SM5",
          "SM6",
          "SM7",
          "SM8",
          "NF"
         ],
         "type": "scatterpolar"
        },
        {
         "name": "Cluster 4",
         "opacity": 0.5,
         "r": [
          74.9368365180467,
          68.47770700636943,
          11.773885350318471,
          92.69426751592357,
          85.05307855626327,
          93.25902335456476,
          87.90870488322717,
          83.86411889596603,
          75.276008492569,
          88.00753715498938,
          79.94692144373673,
          75.85987261146497,
          91.93630573248407,
          88.38004246284501,
          92.88110403397027,
          94.0307855626327,
          83.34819532908705,
          88.45541401273886,
          85.99575371549894,
          86.5583864118896,
          85.09125265392781,
          87.79087048832272,
          89.1868365180467,
          95.71868365180467,
          95.6900212314225,
          93.41825902335457,
          86.87270700636942,
          91.9163906581741,
          74.76114649681529,
          83.9692144373673,
          89.76114649681529,
          88.25583864118896,
          74.43205944798301,
          85.06369426751593,
          94.77070063694268,
          95.17940552016985,
          95.07643312101911,
          90.91188959660298,
          85.24628450106157,
          84.37367303609342,
          82.73036093418258,
          78.75796178343948,
          74.9368365180467
         ],
         "subplot": "polar5",
         "theta": [
          "C1",
          "C2",
          "CR",
          "S1",
          "S2",
          "S3",
          "S4",
          "S5",
          "S6",
          "S7",
          "S8",
          "S9",
          "S10",
          "F1",
          "F2",
          "F3",
          "F4",
          "F5",
          "F6",
          "F7",
          "F8",
          "F9",
          "F10",
          "T1",
          "T2",
          "T3",
          "T4",
          "T5",
          "T6",
          "T7",
          "T8",
          "T9",
          "T10",
          "SM1",
          "SM2",
          "SM3",
          "SM4",
          "SM5",
          "SM6",
          "SM7",
          "SM8",
          "NF"
         ],
         "type": "scatterpolar"
        }
       ],
       "layout": {
        "autosize": false,
        "height": 1000,
        "polar": {
         "angularaxis": {
          "type": "category"
         },
         "domain": {
          "x": [
           0,
           0.2888888888888889
          ],
          "y": [
           0.575,
           1
          ]
         },
         "radialaxis": {
          "autorange": false,
          "range": [
           0,
           100
          ],
          "type": "linear",
          "visible": true
         }
        },
        "polar2": {
         "angularaxis": {
          "type": "category"
         },
         "domain": {
          "x": [
           0.35555555555555557,
           0.6444444444444445
          ],
          "y": [
           0.575,
           1
          ]
         },
         "radialaxis": {
          "autorange": true,
          "range": [
           0,
           84.23255813953489
          ],
          "type": "linear"
         }
        },
        "polar3": {
         "angularaxis": {
          "type": "category"
         },
         "domain": {
          "x": [
           0.7111111111111111,
           1
          ],
          "y": [
           0.575,
           1
          ]
         },
         "radialaxis": {
          "autorange": true,
          "range": [
           0,
           97.14285714285714
          ],
          "type": "linear"
         }
        },
        "polar4": {
         "angularaxis": {
          "type": "category"
         },
         "domain": {
          "x": [
           0,
           0.2888888888888889
          ],
          "y": [
           0,
           0.425
          ]
         },
         "radialaxis": {
          "autorange": true,
          "range": [
           0,
           96.73267326732673
          ],
          "type": "linear"
         }
        },
        "polar5": {
         "angularaxis": {
          "type": "category"
         },
         "domain": {
          "x": [
           0.35555555555555557,
           0.6444444444444445
          ],
          "y": [
           0,
           0.425
          ]
         },
         "radialaxis": {
          "autorange": true,
          "range": [
           0,
           95.71868365180467
          ],
          "type": "linear"
         }
        },
        "polar6": {
         "domain": {
          "x": [
           0.7111111111111111,
           1
          ],
          "y": [
           0,
           0.425
          ]
         }
        },
        "showlegend": true,
        "template": {
         "data": {
          "bar": [
           {
            "error_x": {
             "color": "#2a3f5f"
            },
            "error_y": {
             "color": "#2a3f5f"
            },
            "marker": {
             "line": {
              "color": "#E5ECF6",
              "width": 0.5
             },
             "pattern": {
              "fillmode": "overlay",
              "size": 10,
              "solidity": 0.2
             }
            },
            "type": "bar"
           }
          ],
          "barpolar": [
           {
            "marker": {
             "line": {
              "color": "#E5ECF6",
              "width": 0.5
             },
             "pattern": {
              "fillmode": "overlay",
              "size": 10,
              "solidity": 0.2
             }
            },
            "type": "barpolar"
           }
          ],
          "carpet": [
           {
            "aaxis": {
             "endlinecolor": "#2a3f5f",
             "gridcolor": "white",
             "linecolor": "white",
             "minorgridcolor": "white",
             "startlinecolor": "#2a3f5f"
            },
            "baxis": {
             "endlinecolor": "#2a3f5f",
             "gridcolor": "white",
             "linecolor": "white",
             "minorgridcolor": "white",
             "startlinecolor": "#2a3f5f"
            },
            "type": "carpet"
           }
          ],
          "choropleth": [
           {
            "colorbar": {
             "outlinewidth": 0,
             "ticks": ""
            },
            "type": "choropleth"
           }
          ],
          "contour": [
           {
            "colorbar": {
             "outlinewidth": 0,
             "ticks": ""
            },
            "colorscale": [
             [
              0,
              "#0d0887"
             ],
             [
              0.1111111111111111,
              "#46039f"
             ],
             [
              0.2222222222222222,
              "#7201a8"
             ],
             [
              0.3333333333333333,
              "#9c179e"
             ],
             [
              0.4444444444444444,
              "#bd3786"
             ],
             [
              0.5555555555555556,
              "#d8576b"
             ],
             [
              0.6666666666666666,
              "#ed7953"
             ],
             [
              0.7777777777777778,
              "#fb9f3a"
             ],
             [
              0.8888888888888888,
              "#fdca26"
             ],
             [
              1,
              "#f0f921"
             ]
            ],
            "type": "contour"
           }
          ],
          "contourcarpet": [
           {
            "colorbar": {
             "outlinewidth": 0,
             "ticks": ""
            },
            "type": "contourcarpet"
           }
          ],
          "heatmap": [
           {
            "colorbar": {
             "outlinewidth": 0,
             "ticks": ""
            },
            "colorscale": [
             [
              0,
              "#0d0887"
             ],
             [
              0.1111111111111111,
              "#46039f"
             ],
             [
              0.2222222222222222,
              "#7201a8"
             ],
             [
              0.3333333333333333,
              "#9c179e"
             ],
             [
              0.4444444444444444,
              "#bd3786"
             ],
             [
              0.5555555555555556,
              "#d8576b"
             ],
             [
              0.6666666666666666,
              "#ed7953"
             ],
             [
              0.7777777777777778,
              "#fb9f3a"
             ],
             [
              0.8888888888888888,
              "#fdca26"
             ],
             [
              1,
              "#f0f921"
             ]
            ],
            "type": "heatmap"
           }
          ],
          "heatmapgl": [
           {
            "colorbar": {
             "outlinewidth": 0,
             "ticks": ""
            },
            "colorscale": [
             [
              0,
              "#0d0887"
             ],
             [
              0.1111111111111111,
              "#46039f"
             ],
             [
              0.2222222222222222,
              "#7201a8"
             ],
             [
              0.3333333333333333,
              "#9c179e"
             ],
             [
              0.4444444444444444,
              "#bd3786"
             ],
             [
              0.5555555555555556,
              "#d8576b"
             ],
             [
              0.6666666666666666,
              "#ed7953"
             ],
             [
              0.7777777777777778,
              "#fb9f3a"
             ],
             [
              0.8888888888888888,
              "#fdca26"
             ],
             [
              1,
              "#f0f921"
             ]
            ],
            "type": "heatmapgl"
           }
          ],
          "histogram": [
           {
            "marker": {
             "pattern": {
              "fillmode": "overlay",
              "size": 10,
              "solidity": 0.2
             }
            },
            "type": "histogram"
           }
          ],
          "histogram2d": [
           {
            "colorbar": {
             "outlinewidth": 0,
             "ticks": ""
            },
            "colorscale": [
             [
              0,
              "#0d0887"
             ],
             [
              0.1111111111111111,
              "#46039f"
             ],
             [
              0.2222222222222222,
              "#7201a8"
             ],
             [
              0.3333333333333333,
              "#9c179e"
             ],
             [
              0.4444444444444444,
              "#bd3786"
             ],
             [
              0.5555555555555556,
              "#d8576b"
             ],
             [
              0.6666666666666666,
              "#ed7953"
             ],
             [
              0.7777777777777778,
              "#fb9f3a"
             ],
             [
              0.8888888888888888,
              "#fdca26"
             ],
             [
              1,
              "#f0f921"
             ]
            ],
            "type": "histogram2d"
           }
          ],
          "histogram2dcontour": [
           {
            "colorbar": {
             "outlinewidth": 0,
             "ticks": ""
            },
            "colorscale": [
             [
              0,
              "#0d0887"
             ],
             [
              0.1111111111111111,
              "#46039f"
             ],
             [
              0.2222222222222222,
              "#7201a8"
             ],
             [
              0.3333333333333333,
              "#9c179e"
             ],
             [
              0.4444444444444444,
              "#bd3786"
             ],
             [
              0.5555555555555556,
              "#d8576b"
             ],
             [
              0.6666666666666666,
              "#ed7953"
             ],
             [
              0.7777777777777778,
              "#fb9f3a"
             ],
             [
              0.8888888888888888,
              "#fdca26"
             ],
             [
              1,
              "#f0f921"
             ]
            ],
            "type": "histogram2dcontour"
           }
          ],
          "mesh3d": [
           {
            "colorbar": {
             "outlinewidth": 0,
             "ticks": ""
            },
            "type": "mesh3d"
           }
          ],
          "parcoords": [
           {
            "line": {
             "colorbar": {
              "outlinewidth": 0,
              "ticks": ""
             }
            },
            "type": "parcoords"
           }
          ],
          "pie": [
           {
            "automargin": true,
            "type": "pie"
           }
          ],
          "scatter": [
           {
            "fillpattern": {
             "fillmode": "overlay",
             "size": 10,
             "solidity": 0.2
            },
            "type": "scatter"
           }
          ],
          "scatter3d": [
           {
            "line": {
             "colorbar": {
              "outlinewidth": 0,
              "ticks": ""
             }
            },
            "marker": {
             "colorbar": {
              "outlinewidth": 0,
              "ticks": ""
             }
            },
            "type": "scatter3d"
           }
          ],
          "scattercarpet": [
           {
            "marker": {
             "colorbar": {
              "outlinewidth": 0,
              "ticks": ""
             }
            },
            "type": "scattercarpet"
           }
          ],
          "scattergeo": [
           {
            "marker": {
             "colorbar": {
              "outlinewidth": 0,
              "ticks": ""
             }
            },
            "type": "scattergeo"
           }
          ],
          "scattergl": [
           {
            "marker": {
             "colorbar": {
              "outlinewidth": 0,
              "ticks": ""
             }
            },
            "type": "scattergl"
           }
          ],
          "scattermapbox": [
           {
            "marker": {
             "colorbar": {
              "outlinewidth": 0,
              "ticks": ""
             }
            },
            "type": "scattermapbox"
           }
          ],
          "scatterpolar": [
           {
            "marker": {
             "colorbar": {
              "outlinewidth": 0,
              "ticks": ""
             }
            },
            "type": "scatterpolar"
           }
          ],
          "scatterpolargl": [
           {
            "marker": {
             "colorbar": {
              "outlinewidth": 0,
              "ticks": ""
             }
            },
            "type": "scatterpolargl"
           }
          ],
          "scatterternary": [
           {
            "marker": {
             "colorbar": {
              "outlinewidth": 0,
              "ticks": ""
             }
            },
            "type": "scatterternary"
           }
          ],
          "surface": [
           {
            "colorbar": {
             "outlinewidth": 0,
             "ticks": ""
            },
            "colorscale": [
             [
              0,
              "#0d0887"
             ],
             [
              0.1111111111111111,
              "#46039f"
             ],
             [
              0.2222222222222222,
              "#7201a8"
             ],
             [
              0.3333333333333333,
              "#9c179e"
             ],
             [
              0.4444444444444444,
              "#bd3786"
             ],
             [
              0.5555555555555556,
              "#d8576b"
             ],
             [
              0.6666666666666666,
              "#ed7953"
             ],
             [
              0.7777777777777778,
              "#fb9f3a"
             ],
             [
              0.8888888888888888,
              "#fdca26"
             ],
             [
              1,
              "#f0f921"
             ]
            ],
            "type": "surface"
           }
          ],
          "table": [
           {
            "cells": {
             "fill": {
              "color": "#EBF0F8"
             },
             "line": {
              "color": "white"
             }
            },
            "header": {
             "fill": {
              "color": "#C8D4E3"
             },
             "line": {
              "color": "white"
             }
            },
            "type": "table"
           }
          ]
         },
         "layout": {
          "annotationdefaults": {
           "arrowcolor": "#2a3f5f",
           "arrowhead": 0,
           "arrowwidth": 1
          },
          "autotypenumbers": "strict",
          "coloraxis": {
           "colorbar": {
            "outlinewidth": 0,
            "ticks": ""
           }
          },
          "colorscale": {
           "diverging": [
            [
             0,
             "#8e0152"
            ],
            [
             0.1,
             "#c51b7d"
            ],
            [
             0.2,
             "#de77ae"
            ],
            [
             0.3,
             "#f1b6da"
            ],
            [
             0.4,
             "#fde0ef"
            ],
            [
             0.5,
             "#f7f7f7"
            ],
            [
             0.6,
             "#e6f5d0"
            ],
            [
             0.7,
             "#b8e186"
            ],
            [
             0.8,
             "#7fbc41"
            ],
            [
             0.9,
             "#4d9221"
            ],
            [
             1,
             "#276419"
            ]
           ],
           "sequential": [
            [
             0,
             "#0d0887"
            ],
            [
             0.1111111111111111,
             "#46039f"
            ],
            [
             0.2222222222222222,
             "#7201a8"
            ],
            [
             0.3333333333333333,
             "#9c179e"
            ],
            [
             0.4444444444444444,
             "#bd3786"
            ],
            [
             0.5555555555555556,
             "#d8576b"
            ],
            [
             0.6666666666666666,
             "#ed7953"
            ],
            [
             0.7777777777777778,
             "#fb9f3a"
            ],
            [
             0.8888888888888888,
             "#fdca26"
            ],
            [
             1,
             "#f0f921"
            ]
           ],
           "sequentialminus": [
            [
             0,
             "#0d0887"
            ],
            [
             0.1111111111111111,
             "#46039f"
            ],
            [
             0.2222222222222222,
             "#7201a8"
            ],
            [
             0.3333333333333333,
             "#9c179e"
            ],
            [
             0.4444444444444444,
             "#bd3786"
            ],
            [
             0.5555555555555556,
             "#d8576b"
            ],
            [
             0.6666666666666666,
             "#ed7953"
            ],
            [
             0.7777777777777778,
             "#fb9f3a"
            ],
            [
             0.8888888888888888,
             "#fdca26"
            ],
            [
             1,
             "#f0f921"
            ]
           ]
          },
          "colorway": [
           "#636efa",
           "#EF553B",
           "#00cc96",
           "#ab63fa",
           "#FFA15A",
           "#19d3f3",
           "#FF6692",
           "#B6E880",
           "#FF97FF",
           "#FECB52"
          ],
          "font": {
           "color": "#2a3f5f"
          },
          "geo": {
           "bgcolor": "white",
           "lakecolor": "white",
           "landcolor": "#E5ECF6",
           "showlakes": true,
           "showland": true,
           "subunitcolor": "white"
          },
          "hoverlabel": {
           "align": "left"
          },
          "hovermode": "closest",
          "mapbox": {
           "style": "light"
          },
          "paper_bgcolor": "white",
          "plot_bgcolor": "#E5ECF6",
          "polar": {
           "angularaxis": {
            "gridcolor": "white",
            "linecolor": "white",
            "ticks": ""
           },
           "bgcolor": "#E5ECF6",
           "radialaxis": {
            "gridcolor": "white",
            "linecolor": "white",
            "ticks": ""
           }
          },
          "scene": {
           "xaxis": {
            "backgroundcolor": "#E5ECF6",
            "gridcolor": "white",
            "gridwidth": 2,
            "linecolor": "white",
            "showbackground": true,
            "ticks": "",
            "zerolinecolor": "white"
           },
           "yaxis": {
            "backgroundcolor": "#E5ECF6",
            "gridcolor": "white",
            "gridwidth": 2,
            "linecolor": "white",
            "showbackground": true,
            "ticks": "",
            "zerolinecolor": "white"
           },
           "zaxis": {
            "backgroundcolor": "#E5ECF6",
            "gridcolor": "white",
            "gridwidth": 2,
            "linecolor": "white",
            "showbackground": true,
            "ticks": "",
            "zerolinecolor": "white"
           }
          },
          "shapedefaults": {
           "line": {
            "color": "#2a3f5f"
           }
          },
          "ternary": {
           "aaxis": {
            "gridcolor": "white",
            "linecolor": "white",
            "ticks": ""
           },
           "baxis": {
            "gridcolor": "white",
            "linecolor": "white",
            "ticks": ""
           },
           "bgcolor": "#E5ECF6",
           "caxis": {
            "gridcolor": "white",
            "linecolor": "white",
            "ticks": ""
           }
          },
          "title": {
           "x": 0.05
          },
          "xaxis": {
           "automargin": true,
           "gridcolor": "white",
           "linecolor": "white",
           "ticks": "",
           "title": {
            "standoff": 15
           },
           "zerolinecolor": "white",
           "zerolinewidth": 2
          },
          "yaxis": {
           "automargin": true,
           "gridcolor": "white",
           "linecolor": "white",
           "ticks": "",
           "title": {
            "standoff": 15
           },
           "zerolinecolor": "white",
           "zerolinewidth": 2
          }
         }
        },
        "width": 1200
       }
      },
      "image/png": "[encoded data removed]",
      "text/html": [
       "<div>                            <div id=\"2efa4f78-1f06-4ac1-a79c-f5f7705a6db0\" class=\"plotly-graph-div\" style=\"height:1000px; width:1200px;\"></div>            <script type=\"text/javascript\">                require([\"plotly\"], function(Plotly) {                    window.PLOTLYENV=window.PLOTLYENV || {};                                    if (document.getElementById(\"2efa4f78-1f06-4ac1-a79c-f5f7705a6db0\")) {                    Plotly.newPlot(                        \"2efa4f78-1f06-4ac1-a79c-f5f7705a6db0\",                        [{\"name\":\"Cluster 0\",\"opacity\":0.5,\"r\":[54.94444444444444,53.48148148148148,19.75925925925926,75.77283950617284,78.64197530864197,80.44444444444444,72.66666666666667,74.5679012345679,59.407407407407405,69.6041975308642,68.85185185185185,47.75308641975309,68.21234567901234,74.05432098765432,73.73086419753086,73.93827160493827,64.41481481481482,71.30864197530865,69.33086419753086,64.07654320987655,62.79962962962963,56.88148148148148,61.35308641975308,84.27407407407408,89.74074074074075,84.98765432098766,76.1604938271605,83.08466666666666,53.65432098765432,51.79012345679013,67.50617283950618,55.03703703703704,40.592592592592595,16.790123456790123,17.696296296296296,16.846913580246913,16.99506172839506,11.518518518518519,3.88641975308642,5.555555555555555,4.592592592592593,59.409876543209876,54.94444444444444],\"theta\":[\"C1\",\"C2\",\"CR\",\"S1\",\"S2\",\"S3\",\"S4\",\"S5\",\"S6\",\"S7\",\"S8\",\"S9\",\"S10\",\"F1\",\"F2\",\"F3\",\"F4\",\"F5\",\"F6\",\"F7\",\"F8\",\"F9\",\"F10\",\"T1\",\"T2\",\"T3\",\"T4\",\"T5\",\"T6\",\"T7\",\"T8\",\"T9\",\"T10\",\"SM1\",\"SM2\",\"SM3\",\"SM4\",\"SM5\",\"SM6\",\"SM7\",\"SM8\",\"NF\"],\"type\":\"scatterpolar\",\"subplot\":\"polar\"},{\"name\":\"Cluster 1\",\"opacity\":0.5,\"r\":[44.60232558139535,32.62441860465116,23.815116279069766,71.87209302325581,73.74418604651163,75.62790697674419,66.72093023255815,64.30232558139535,55.627906976744185,60.093023255813954,53.26046511627907,29.953488372093023,61.734883720930235,68.54186046511627,72.99767441860465,71.77906976744185,56.30930232558139,60.12325581395349,56.76046511627907,50.646511627906975,48.21995348837209,48.848837209302324,45.825581395348834,74.31162790697674,84.23255813953489,77.62790697674419,61.920720930232555,66.81451162790697,23.08139534883721,23.706976744186047,40.04651162790697,32.44186046511628,16.441860465116278,29.46511627906977,26.51860465116279,20.553488372093025,16.323255813953487,8.365116279069767,4.837209302325581,6.906976744186046,5.627906976744186,44.45813953488372,44.60232558139535],\"theta\":[\"C1\",\"C2\",\"CR\",\"S1\",\"S2\",\"S3\",\"S4\",\"S5\",\"S6\",\"S7\",\"S8\",\"S9\",\"S10\",\"F1\",\"F2\",\"F3\",\"F4\",\"F5\",\"F6\",\"F7\",\"F8\",\"F9\",\"F10\",\"T1\",\"T2\",\"T3\",\"T4\",\"T5\",\"T6\",\"T7\",\"T8\",\"T9\",\"T10\",\"SM1\",\"SM2\",\"SM3\",\"SM4\",\"SM5\",\"SM6\",\"SM7\",\"SM8\",\"NF\"],\"type\":\"scatterpolar\",\"subplot\":\"polar2\"},{\"name\":\"Cluster 2\",\"opacity\":0.5,\"r\":[68.75162337662337,80.30275974025975,9.733766233766234,85.51136363636364,88.25487012987013,89.52922077922078,80.56006493506493,83.72564935064935,75.77922077922078,87.27126623376624,87.53733766233766,64.67532467532467,88.73051948051948,88.3538961038961,87.9448051948052,86.59253246753246,82.86363636363636,87.04058441558442,84.24350649350649,81.93993506493507,85.83603896103897,81.87012987012987,83.99837662337663,92.9448051948052,97.14285714285714,95.05681818181819,94.7734577922078,93.41233766233766,81.46103896103897,83.86688311688312,93.01948051948052,87.98214285714286,84.30194805194805,3.7337662337662336,3.461038961038961,1.7743506493506493,2.1103896103896105,1.37987012987013,2.012987012987013,1.6071428571428572,0.6493506493506493,80.27759740259741,68.75162337662337],\"theta\":[\"C1\",\"C2\",\"CR\",\"S1\",\"S2\",\"S3\",\"S4\",\"S5\",\"S6\",\"S7\",\"S8\",\"S9\",\"S10\",\"F1\",\"F2\",\"F3\",\"F4\",\"F5\",\"F6\",\"F7\",\"F8\",\"F9\",\"F10\",\"T1\",\"T2\",\"T3\",\"T4\",\"T5\",\"T6\",\"T7\",\"T8\",\"T9\",\"T10\",\"SM1\",\"SM2\",\"SM3\",\"SM4\",\"SM5\",\"SM6\",\"SM7\",\"SM8\",\"NF\"],\"type\":\"scatterpolar\",\"subplot\":\"polar3\"},{\"name\":\"Cluster 3\",\"opacity\":0.5,\"r\":[75.15696877380046,68.74047981721249,12.670982482863671,90.34044173648134,89.78598629093679,91.07387661843107,85.13328255902513,85.49124143183549,75.47829398324448,88.77829398324447,81.98933739527799,74.34881949733435,90.53998476770754,88.28103579588728,92.78979436405179,92.7974105102818,87.74333587204875,89.84082254379284,88.66184310738767,87.56892612338157,86.61362528560548,87.000761614623,88.10967250571211,95.14851485148515,96.73267326732673,93.23153084539223,88.00642041127189,93.32673267326733,77.26884996191927,82.52170601675552,88.47296268088347,86.3023610053313,70.02208682406702,91.67936024371667,95.17364813404417,94.66031987814166,93.6945925361767,93.76542269611576,86.7128712871287,86.85453160700685,82.95811119573496,79.3483117542498,75.15696877380046],\"theta\":[\"C1\",\"C2\",\"CR\",\"S1\",\"S2\",\"S3\",\"S4\",\"S5\",\"S6\",\"S7\",\"S8\",\"S9\",\"S10\",\"F1\",\"F2\",\"F3\",\"F4\",\"F5\",\"F6\",\"F7\",\"F8\",\"F9\",\"F10\",\"T1\",\"T2\",\"T3\",\"T4\",\"T5\",\"T6\",\"T7\",\"T8\",\"T9\",\"T10\",\"SM1\",\"SM2\",\"SM3\",\"SM4\",\"SM5\",\"SM6\",\"SM7\",\"SM8\",\"NF\"],\"type\":\"scatterpolar\",\"subplot\":\"polar4\"},{\"name\":\"Cluster 4\",\"opacity\":0.5,\"r\":[74.9368365180467,68.47770700636943,11.773885350318471,92.69426751592357,85.05307855626327,93.25902335456476,87.90870488322717,83.86411889596603,75.276008492569,88.00753715498938,79.94692144373673,75.85987261146497,91.93630573248407,88.38004246284501,92.88110403397027,94.0307855626327,83.34819532908705,88.45541401273886,85.99575371549894,86.5583864118896,85.09125265392781,87.79087048832272,89.1868365180467,95.71868365180467,95.6900212314225,93.41825902335457,86.87270700636942,91.9163906581741,74.76114649681529,83.9692144373673,89.76114649681529,88.25583864118896,74.43205944798301,85.06369426751593,94.77070063694268,95.17940552016985,95.07643312101911,90.91188959660298,85.24628450106157,84.37367303609342,82.73036093418258,78.75796178343948,74.9368365180467],\"theta\":[\"C1\",\"C2\",\"CR\",\"S1\",\"S2\",\"S3\",\"S4\",\"S5\",\"S6\",\"S7\",\"S8\",\"S9\",\"S10\",\"F1\",\"F2\",\"F3\",\"F4\",\"F5\",\"F6\",\"F7\",\"F8\",\"F9\",\"F10\",\"T1\",\"T2\",\"T3\",\"T4\",\"T5\",\"T6\",\"T7\",\"T8\",\"T9\",\"T10\",\"SM1\",\"SM2\",\"SM3\",\"SM4\",\"SM5\",\"SM6\",\"SM7\",\"SM8\",\"NF\"],\"type\":\"scatterpolar\",\"subplot\":\"polar5\"}],                        {\"template\":{\"data\":{\"histogram2dcontour\":[{\"type\":\"histogram2dcontour\",\"colorbar\":{\"outlinewidth\":0,\"ticks\":\"\"},\"colorscale\":[[0.0,\"#0d0887\"],[0.1111111111111111,\"#46039f\"],[0.2222222222222222,\"#7201a8\"],[0.3333333333333333,\"#9c179e\"],[0.4444444444444444,\"#bd3786\"],[0.5555555555555556,\"#d8576b\"],[0.6666666666666666,\"#ed7953\"],[0.7777777777777778,\"#fb9f3a\"],[0.8888888888888888,\"#fdca26\"],[1.0,\"#f0f921\"]]}],\"choropleth\":[{\"type\":\"choropleth\",\"colorbar\":{\"outlinewidth\":0,\"ticks\":\"\"}}],\"histogram2d\":[{\"type\":\"histogram2d\",\"colorbar\":{\"outlinewidth\":0,\"ticks\":\"\"},\"colorscale\":[[0.0,\"#0d0887\"],[0.1111111111111111,\"#46039f\"],[0.2222222222222222,\"#7201a8\"],[0.3333333333333333,\"#9c179e\"],[0.4444444444444444,\"#bd3786\"],[0.5555555555555556,\"#d8576b\"],[0.6666666666666666,\"#ed7953\"],[0.7777777777777778,\"#fb9f3a\"],[0.8888888888888888,\"#fdca26\"],[1.0,\"#f0f921\"]]}],\"heatmap\":[{\"type\":\"heatmap\",\"colorbar\":{\"outlinewidth\":0,\"ticks\":\"\"},\"colorscale\":[[0.0,\"#0d0887\"],[0.1111111111111111,\"#46039f\"],[0.2222222222222222,\"#7201a8\"],[0.3333333333333333,\"#9c179e\"],[0.4444444444444444,\"#bd3786\"],[0.5555555555555556,\"#d8576b\"],[0.6666666666666666,\"#ed7953\"],[0.7777777777777778,\"#fb9f3a\"],[0.8888888888888888,\"#fdca26\"],[1.0,\"#f0f921\"]]}],\"heatmapgl\":[{\"type\":\"heatmapgl\",\"colorbar\":{\"outlinewidth\":0,\"ticks\":\"\"},\"colorscale\":[[0.0,\"#0d0887\"],[0.1111111111111111,\"#46039f\"],[0.2222222222222222,\"#7201a8\"],[0.3333333333333333,\"#9c179e\"],[0.4444444444444444,\"#bd3786\"],[0.5555555555555556,\"#d8576b\"],[0.6666666666666666,\"#ed7953\"],[0.7777777777777778,\"#fb9f3a\"],[0.8888888888888888,\"#fdca26\"],[1.0,\"#f0f921\"]]}],\"contourcarpet\":[{\"type\":\"contourcarpet\",\"colorbar\":{\"outlinewidth\":0,\"ticks\":\"\"}}],\"contour\":[{\"type\":\"contour\",\"colorbar\":{\"outlinewidth\":0,\"ticks\":\"\"},\"colorscale\":[[0.0,\"#0d0887\"],[0.1111111111111111,\"#46039f\"],[0.2222222222222222,\"#7201a8\"],[0.3333333333333333,\"#9c179e\"],[0.4444444444444444,\"#bd3786\"],[0.5555555555555556,\"#d8576b\"],[0.6666666666666666,\"#ed7953\"],[0.7777777777777778,\"#fb9f3a\"],[0.8888888888888888,\"#fdca26\"],[1.0,\"#f0f921\"]]}],\"surface\":[{\"type\":\"surface\",\"colorbar\":{\"outlinewidth\":0,\"ticks\":\"\"},\"colorscale\":[[0.0,\"#0d0887\"],[0.1111111111111111,\"#46039f\"],[0.2222222222222222,\"#7201a8\"],[0.3333333333333333,\"#9c179e\"],[0.4444444444444444,\"#bd3786\"],[0.5555555555555556,\"#d8576b\"],[0.6666666666666666,\"#ed7953\"],[0.7777777777777778,\"#fb9f3a\"],[0.8888888888888888,\"#fdca26\"],[1.0,\"#f0f921\"]]}],\"mesh3d\":[{\"type\":\"mesh3d\",\"colorbar\":{\"outlinewidth\":0,\"ticks\":\"\"}}],\"scatter\":[{\"fillpattern\":{\"fillmode\":\"overlay\",\"size\":10,\"solidity\":0.2},\"type\":\"scatter\"}],\"parcoords\":[{\"type\":\"parcoords\",\"line\":{\"colorbar\":{\"outlinewidth\":0,\"ticks\":\"\"}}}],\"scatterpolargl\":[{\"type\":\"scatterpolargl\",\"marker\":{\"colorbar\":{\"outlinewidth\":0,\"ticks\":\"\"}}}],\"bar\":[{\"error_x\":{\"color\":\"#2a3f5f\"},\"error_y\":{\"color\":\"#2a3f5f\"},\"marker\":{\"line\":{\"color\":\"#E5ECF6\",\"width\":0.5},\"pattern\":{\"fillmode\":\"overlay\",\"size\":10,\"solidity\":0.2}},\"type\":\"bar\"}],\"scattergeo\":[{\"type\":\"scattergeo\",\"marker\":{\"colorbar\":{\"outlinewidth\":0,\"ticks\":\"\"}}}],\"scatterpolar\":[{\"type\":\"scatterpolar\",\"marker\":{\"colorbar\":{\"outlinewidth\":0,\"ticks\":\"\"}}}],\"histogram\":[{\"marker\":{\"pattern\":{\"fillmode\":\"overlay\",\"size\":10,\"solidity\":0.2}},\"type\":\"histogram\"}],\"scattergl\":[{\"type\":\"scattergl\",\"marker\":{\"colorbar\":{\"outlinewidth\":0,\"ticks\":\"\"}}}],\"scatter3d\":[{\"type\":\"scatter3d\",\"line\":{\"colorbar\":{\"outlinewidth\":0,\"ticks\":\"\"}},\"marker\":{\"colorbar\":{\"outlinewidth\":0,\"ticks\":\"\"}}}],\"scattermapbox\":[{\"type\":\"scattermapbox\",\"marker\":{\"colorbar\":{\"outlinewidth\":0,\"ticks\":\"\"}}}],\"scatterternary\":[{\"type\":\"scatterternary\",\"marker\":{\"colorbar\":{\"outlinewidth\":0,\"ticks\":\"\"}}}],\"scattercarpet\":[{\"type\":\"scattercarpet\",\"marker\":{\"colorbar\":{\"outlinewidth\":0,\"ticks\":\"\"}}}],\"carpet\":[{\"aaxis\":{\"endlinecolor\":\"#2a3f5f\",\"gridcolor\":\"white\",\"linecolor\":\"white\",\"minorgridcolor\":\"white\",\"startlinecolor\":\"#2a3f5f\"},\"baxis\":{\"endlinecolor\":\"#2a3f5f\",\"gridcolor\":\"white\",\"linecolor\":\"white\",\"minorgridcolor\":\"white\",\"startlinecolor\":\"#2a3f5f\"},\"type\":\"carpet\"}],\"table\":[{\"cells\":{\"fill\":{\"color\":\"#EBF0F8\"},\"line\":{\"color\":\"white\"}},\"header\":{\"fill\":{\"color\":\"#C8D4E3\"},\"line\":{\"color\":\"white\"}},\"type\":\"table\"}],\"barpolar\":[{\"marker\":{\"line\":{\"color\":\"#E5ECF6\",\"width\":0.5},\"pattern\":{\"fillmode\":\"overlay\",\"size\":10,\"solidity\":0.2}},\"type\":\"barpolar\"}],\"pie\":[{\"automargin\":true,\"type\":\"pie\"}]},\"layout\":{\"autotypenumbers\":\"strict\",\"colorway\":[\"#636efa\",\"#EF553B\",\"#00cc96\",\"#ab63fa\",\"#FFA15A\",\"#19d3f3\",\"#FF6692\",\"#B6E880\",\"#FF97FF\",\"#FECB52\"],\"font\":{\"color\":\"#2a3f5f\"},\"hovermode\":\"closest\",\"hoverlabel\":{\"align\":\"left\"},\"paper_bgcolor\":\"white\",\"plot_bgcolor\":\"#E5ECF6\",\"polar\":{\"bgcolor\":\"#E5ECF6\",\"angularaxis\":{\"gridcolor\":\"white\",\"linecolor\":\"white\",\"ticks\":\"\"},\"radialaxis\":{\"gridcolor\":\"white\",\"linecolor\":\"white\",\"ticks\":\"\"}},\"ternary\":{\"bgcolor\":\"#E5ECF6\",\"aaxis\":{\"gridcolor\":\"white\",\"linecolor\":\"white\",\"ticks\":\"\"},\"baxis\":{\"gridcolor\":\"white\",\"linecolor\":\"white\",\"ticks\":\"\"},\"caxis\":{\"gridcolor\":\"white\",\"linecolor\":\"white\",\"ticks\":\"\"}},\"coloraxis\":{\"colorbar\":{\"outlinewidth\":0,\"ticks\":\"\"}},\"colorscale\":{\"sequential\":[[0.0,\"#0d0887\"],[0.1111111111111111,\"#46039f\"],[0.2222222222222222,\"#7201a8\"],[0.3333333333333333,\"#9c179e\"],[0.4444444444444444,\"#bd3786\"],[0.5555555555555556,\"#d8576b\"],[0.6666666666666666,\"#ed7953\"],[0.7777777777777778,\"#fb9f3a\"],[0.8888888888888888,\"#fdca26\"],[1.0,\"#f0f921\"]],\"sequentialminus\":[[0.0,\"#0d0887\"],[0.1111111111111111,\"#46039f\"],[0.2222222222222222,\"#7201a8\"],[0.3333333333333333,\"#9c179e\"],[0.4444444444444444,\"#bd3786\"],[0.5555555555555556,\"#d8576b\"],[0.6666666666666666,\"#ed7953\"],[0.7777777777777778,\"#fb9f3a\"],[0.8888888888888888,\"#fdca26\"],[1.0,\"#f0f921\"]],\"diverging\":[[0,\"#8e0152\"],[0.1,\"#c51b7d\"],[0.2,\"#de77ae\"],[0.3,\"#f1b6da\"],[0.4,\"#fde0ef\"],[0.5,\"#f7f7f7\"],[0.6,\"#e6f5d0\"],[0.7,\"#b8e186\"],[0.8,\"#7fbc41\"],[0.9,\"#4d9221\"],[1,\"#276419\"]]},\"xaxis\":{\"gridcolor\":\"white\",\"linecolor\":\"white\",\"ticks\":\"\",\"title\":{\"standoff\":15},\"zerolinecolor\":\"white\",\"automargin\":true,\"zerolinewidth\":2},\"yaxis\":{\"gridcolor\":\"white\",\"linecolor\":\"white\",\"ticks\":\"\",\"title\":{\"standoff\":15},\"zerolinecolor\":\"white\",\"automargin\":true,\"zerolinewidth\":2},\"scene\":{\"xaxis\":{\"backgroundcolor\":\"#E5ECF6\",\"gridcolor\":\"white\",\"linecolor\":\"white\",\"showbackground\":true,\"ticks\":\"\",\"zerolinecolor\":\"white\",\"gridwidth\":2},\"yaxis\":{\"backgroundcolor\":\"#E5ECF6\",\"gridcolor\":\"white\",\"linecolor\":\"white\",\"showbackground\":true,\"ticks\":\"\",\"zerolinecolor\":\"white\",\"gridwidth\":2},\"zaxis\":{\"backgroundcolor\":\"#E5ECF6\",\"gridcolor\":\"white\",\"linecolor\":\"white\",\"showbackground\":true,\"ticks\":\"\",\"zerolinecolor\":\"white\",\"gridwidth\":2}},\"shapedefaults\":{\"line\":{\"color\":\"#2a3f5f\"}},\"annotationdefaults\":{\"arrowcolor\":\"#2a3f5f\",\"arrowhead\":0,\"arrowwidth\":1},\"geo\":{\"bgcolor\":\"white\",\"landcolor\":\"#E5ECF6\",\"subunitcolor\":\"white\",\"showland\":true,\"showlakes\":true,\"lakecolor\":\"white\"},\"title\":{\"x\":0.05},\"mapbox\":{\"style\":\"light\"}}},\"polar\":{\"domain\":{\"x\":[0.0,0.2888888888888889],\"y\":[0.575,1.0]},\"radialaxis\":{\"visible\":true,\"range\":[0,100]}},\"polar2\":{\"domain\":{\"x\":[0.35555555555555557,0.6444444444444445],\"y\":[0.575,1.0]}},\"polar3\":{\"domain\":{\"x\":[0.7111111111111111,1.0],\"y\":[0.575,1.0]}},\"polar4\":{\"domain\":{\"x\":[0.0,0.2888888888888889],\"y\":[0.0,0.425]}},\"polar5\":{\"domain\":{\"x\":[0.35555555555555557,0.6444444444444445],\"y\":[0.0,0.425]}},\"polar6\":{\"domain\":{\"x\":[0.7111111111111111,1.0],\"y\":[0.0,0.425]}},\"autosize\":false,\"width\":1200,\"height\":1000,\"showlegend\":true},                        {\"responsive\": true}                    ).then(function(){\n",
       "                            \n",
       "var gd = document.getElementById('2efa4f78-1f06-4ac1-a79c-f5f7705a6db0');\n",
       "var x = new MutationObserver(function (mutations, observer) {{\n",
       "        var display = window.getComputedStyle(gd).display;\n",
       "        if (!display || display === 'none') {{\n",
       "            console.log([gd, 'removed!']);\n",
       "            Plotly.purge(gd);\n",
       "            observer.disconnect();\n",
       "        }}\n",
       "}});\n",
       "\n",
       "// Listen for the removal of the full notebook cells\n",
       "var notebookContainer = gd.closest('#notebook-container');\n",
       "if (notebookContainer) {{\n",
       "    x.observe(notebookContainer, {childList: true});\n",
       "}}\n",
       "\n",
       "// Listen for the clearing of the current output cell\n",
       "var outputEl = gd.closest('.output');\n",
       "if (outputEl) {{\n",
       "    x.observe(outputEl, {childList: true});\n",
       "}}\n",
       "\n",
       "                        })                };                });            </script>        </div>"
      ]
     },
     "metadata": {},
     "output_type": "display_data"
    }
   ],
   "source": [
    "import plotly.graph_objects as go\n",
    "from plotly.subplots import make_subplots\n",
    "\n",
    "n= 3\n",
    "db = df.drop(columns=['Carrera','Campus','Sem','Sexo','Apr'])\n",
    "categories = df.drop(columns=['labels','Carrera','Campus','Sem','Sexo','Apr']).columns\n",
    "fig = make_subplots(rows=n-1,cols=n,specs=[[{'type': 'polar'}]*n]*(n-1))\n",
    "\n",
    "for i in range(len(clusters)):\n",
    "    radio= db[db.labels ==i].drop(columns=['labels']).mean().values\n",
    "    fig.add_trace(go.Scatterpolar(\n",
    "          r= [*radio, radio[0]],\n",
    "          theta=categories,\n",
    "          #fill='toself',\n",
    "            opacity=0.5,\n",
    "          name=f'Cluster {i}'\n",
    "    ),\n",
    "        row=(i//n) +1, \n",
    "        col= (i%n) +1      )\n",
    "\n",
    "fig.update_layout(\n",
    "    autosize=False,\n",
    "   width=1200,\n",
    "   height=1000,\n",
    "    showlegend=True,\n",
    "    polar=dict(\n",
    "    radialaxis=dict(\n",
    "      visible=True,\n",
    "      range=[0, 100]\n",
    "    )),\n",
    ")\n",
    "\n",
    "fig.show()\n",
    "fig.write_image('ClustersKMeans.png',)"
   ]
  },
  {
   "cell_type": "code",
   "execution_count": 222,
   "id": "24dd5578-1ccc-4eab-8a01-0de62da30389",
   "metadata": {},
   "outputs": [
    {
     "data": {
      "text/html": [
       "<div>\n",
       "<style scoped>\n",
       "    .dataframe tbody tr th:only-of-type {\n",
       "        vertical-align: middle;\n",
       "    }\n",
       "\n",
       "    .dataframe tbody tr th {\n",
       "        vertical-align: top;\n",
       "    }\n",
       "\n",
       "    .dataframe thead th {\n",
       "        text-align: right;\n",
       "    }\n",
       "</style>\n",
       "<table border=\"1\" class=\"dataframe\">\n",
       "  <thead>\n",
       "    <tr style=\"text-align: right;\">\n",
       "      <th></th>\n",
       "      <th>labels</th>\n",
       "      <th>0</th>\n",
       "      <th>1</th>\n",
       "      <th>2</th>\n",
       "      <th>3</th>\n",
       "      <th>4</th>\n",
       "    </tr>\n",
       "  </thead>\n",
       "  <tbody>\n",
       "    <tr>\n",
       "      <th rowspan=\"2\" valign=\"top\">Sexo</th>\n",
       "      <th>0</th>\n",
       "      <td>0.750617</td>\n",
       "      <td>0.765116</td>\n",
       "      <td>0.814935</td>\n",
       "      <td>0.742574</td>\n",
       "      <td>0.682590</td>\n",
       "    </tr>\n",
       "    <tr>\n",
       "      <th>1</th>\n",
       "      <td>0.249383</td>\n",
       "      <td>0.234884</td>\n",
       "      <td>0.185065</td>\n",
       "      <td>0.257426</td>\n",
       "      <td>0.317410</td>\n",
       "    </tr>\n",
       "    <tr>\n",
       "      <th rowspan=\"2\" valign=\"top\">Semestre</th>\n",
       "      <th>1.0</th>\n",
       "      <td>0.718519</td>\n",
       "      <td>0.648837</td>\n",
       "      <td>0.910714</td>\n",
       "      <td>0.415080</td>\n",
       "      <td>0.230361</td>\n",
       "    </tr>\n",
       "    <tr>\n",
       "      <th>2.0</th>\n",
       "      <td>0.281481</td>\n",
       "      <td>0.351163</td>\n",
       "      <td>0.089286</td>\n",
       "      <td>0.584920</td>\n",
       "      <td>0.769639</td>\n",
       "    </tr>\n",
       "    <tr>\n",
       "      <th rowspan=\"3\" valign=\"top\">Campus</th>\n",
       "      <th>0.0</th>\n",
       "      <td>0.567901</td>\n",
       "      <td>0.472093</td>\n",
       "      <td>0.491883</td>\n",
       "      <td>0.453161</td>\n",
       "      <td>0.314225</td>\n",
       "    </tr>\n",
       "    <tr>\n",
       "      <th>1.0</th>\n",
       "      <td>0.427160</td>\n",
       "      <td>0.472093</td>\n",
       "      <td>0.495130</td>\n",
       "      <td>0.439452</td>\n",
       "      <td>0.632696</td>\n",
       "    </tr>\n",
       "    <tr>\n",
       "      <th>2.0</th>\n",
       "      <td>0.004938</td>\n",
       "      <td>0.055814</td>\n",
       "      <td>0.012987</td>\n",
       "      <td>0.107388</td>\n",
       "      <td>0.053079</td>\n",
       "    </tr>\n",
       "    <tr>\n",
       "      <th rowspan=\"2\" valign=\"top\">Aprobación</th>\n",
       "      <th>0</th>\n",
       "      <td>0.353086</td>\n",
       "      <td>0.576744</td>\n",
       "      <td>0.056818</td>\n",
       "      <td>0.092917</td>\n",
       "      <td>0.085987</td>\n",
       "    </tr>\n",
       "    <tr>\n",
       "      <th>1.0</th>\n",
       "      <td>0.646914</td>\n",
       "      <td>0.423256</td>\n",
       "      <td>0.943182</td>\n",
       "      <td>0.907083</td>\n",
       "      <td>0.914013</td>\n",
       "    </tr>\n",
       "    <tr>\n",
       "      <th rowspan=\"4\" valign=\"top\">Nota</th>\n",
       "      <th>1.0</th>\n",
       "      <td>0.283951</td>\n",
       "      <td>0.458140</td>\n",
       "      <td>0.038961</td>\n",
       "      <td>0.063214</td>\n",
       "      <td>0.069002</td>\n",
       "    </tr>\n",
       "    <tr>\n",
       "      <th>2.0</th>\n",
       "      <td>0.069136</td>\n",
       "      <td>0.118605</td>\n",
       "      <td>0.017857</td>\n",
       "      <td>0.029703</td>\n",
       "      <td>0.016985</td>\n",
       "    </tr>\n",
       "    <tr>\n",
       "      <th>3.0</th>\n",
       "      <td>0.153086</td>\n",
       "      <td>0.220930</td>\n",
       "      <td>0.040584</td>\n",
       "      <td>0.028180</td>\n",
       "      <td>0.026539</td>\n",
       "    </tr>\n",
       "    <tr>\n",
       "      <th>4.0</th>\n",
       "      <td>0.493827</td>\n",
       "      <td>0.202326</td>\n",
       "      <td>0.902597</td>\n",
       "      <td>0.878903</td>\n",
       "      <td>0.887473</td>\n",
       "    </tr>\n",
       "  </tbody>\n",
       "</table>\n",
       "</div>"
      ],
      "text/plain": [
       "labels                 0         1         2         3         4\n",
       "Sexo       0    0.750617  0.765116  0.814935  0.742574  0.682590\n",
       "           1    0.249383  0.234884  0.185065  0.257426  0.317410\n",
       "Semestre   1.0  0.718519  0.648837  0.910714  0.415080  0.230361\n",
       "           2.0  0.281481  0.351163  0.089286  0.584920  0.769639\n",
       "Campus     0.0  0.567901  0.472093  0.491883  0.453161  0.314225\n",
       "           1.0  0.427160  0.472093  0.495130  0.439452  0.632696\n",
       "           2.0  0.004938  0.055814  0.012987  0.107388  0.053079\n",
       "Aprobación 0    0.353086  0.576744  0.056818  0.092917  0.085987\n",
       "           1.0  0.646914  0.423256  0.943182  0.907083  0.914013\n",
       "Nota       1.0  0.283951  0.458140  0.038961  0.063214  0.069002\n",
       "           2.0  0.069136  0.118605  0.017857  0.029703  0.016985\n",
       "           3.0  0.153086  0.220930  0.040584  0.028180  0.026539\n",
       "           4.0  0.493827  0.202326  0.902597  0.878903  0.887473"
      ]
     },
     "execution_count": 222,
     "metadata": {},
     "output_type": "execute_result"
    }
   ],
   "source": [
    "((pd.concat(\n",
    "    [\n",
    "    pd.crosstab(_df2['labels'],_df2['Sexo'],normalize='index').T,\n",
    "    pd.crosstab(_df2['labels'],_df2['Sem'],normalize='index').T,\n",
    "    pd.crosstab(_df2['labels'],_df2['Campus'],normalize='index').T,\n",
    "    pd.crosstab(_df2['labels'],_df2['Apr'],normalize='index').T,\n",
    "    pd.crosstab(_df2['labels'],_df2['NF'],normalize='index').T\n",
    "    ]\n",
    "    ,keys=['Sexo','Semestre','Campus', 'Aprobación','Nota'])\n",
    "))"
   ]
  },
  {
   "cell_type": "code",
   "execution_count": 201,
   "id": "6ecaa865-4321-41c9-824c-b8c8f7262893",
   "metadata": {},
   "outputs": [],
   "source": [
    "_df2['Promedio Tareas'] = parametrize_col(df.filter(regex='T').mean(axis=1))\n",
    "_df2['Promedio Formativos'] = parametrize_col(df.filter(regex='F').mean(axis=1))\n",
    "_df2['Promedio Actividades'] = parametrize_col(df.filter(regex='SM').mean(axis=1))\n",
    "_df2['Promedio Tareas'] = parametrize_col(df.filter(regex='T').mean(axis=1))\n",
    "_df2['Promedio Controles'] = parametrize_col(df.filter(regex='S[0-9]').mean(axis=1))"
   ]
  },
  {
   "cell_type": "code",
   "execution_count": 202,
   "id": "ab9e6e5a-520c-4570-8451-70b511c05076",
   "metadata": {},
   "outputs": [
    {
     "data": {
      "text/html": [
       "<div>\n",
       "<style scoped>\n",
       "    .dataframe tbody tr th:only-of-type {\n",
       "        vertical-align: middle;\n",
       "    }\n",
       "\n",
       "    .dataframe tbody tr th {\n",
       "        vertical-align: top;\n",
       "    }\n",
       "\n",
       "    .dataframe thead th {\n",
       "        text-align: right;\n",
       "    }\n",
       "</style>\n",
       "<table border=\"1\" class=\"dataframe\">\n",
       "  <thead>\n",
       "    <tr style=\"text-align: right;\">\n",
       "      <th></th>\n",
       "      <th>labels</th>\n",
       "      <th>0</th>\n",
       "      <th>1</th>\n",
       "      <th>2</th>\n",
       "      <th>3</th>\n",
       "    </tr>\n",
       "  </thead>\n",
       "  <tbody>\n",
       "    <tr>\n",
       "      <th rowspan=\"5\" valign=\"top\">C1</th>\n",
       "      <th>0.0</th>\n",
       "      <td>0.010679</td>\n",
       "      <td>0.023687</td>\n",
       "      <td>0.015855</td>\n",
       "      <td>0.064695</td>\n",
       "    </tr>\n",
       "    <tr>\n",
       "      <th>1.0</th>\n",
       "      <td>0.139588</td>\n",
       "      <td>0.118435</td>\n",
       "      <td>0.275198</td>\n",
       "      <td>0.436229</td>\n",
       "    </tr>\n",
       "    <tr>\n",
       "      <th>2.0</th>\n",
       "      <td>0.083143</td>\n",
       "      <td>0.072091</td>\n",
       "      <td>0.132503</td>\n",
       "      <td>0.112754</td>\n",
       "    </tr>\n",
       "    <tr>\n",
       "      <th>3.0</th>\n",
       "      <td>0.069413</td>\n",
       "      <td>0.090628</td>\n",
       "      <td>0.103058</td>\n",
       "      <td>0.068392</td>\n",
       "    </tr>\n",
       "    <tr>\n",
       "      <th>4.0</th>\n",
       "      <td>0.697178</td>\n",
       "      <td>0.695160</td>\n",
       "      <td>0.473386</td>\n",
       "      <td>0.317930</td>\n",
       "    </tr>\n",
       "    <tr>\n",
       "      <th rowspan=\"5\" valign=\"top\">C2</th>\n",
       "      <th>0.0</th>\n",
       "      <td>0.115179</td>\n",
       "      <td>0.097837</td>\n",
       "      <td>0.084938</td>\n",
       "      <td>0.384473</td>\n",
       "    </tr>\n",
       "    <tr>\n",
       "      <th>1.0</th>\n",
       "      <td>0.118993</td>\n",
       "      <td>0.127703</td>\n",
       "      <td>0.079275</td>\n",
       "      <td>0.236599</td>\n",
       "    </tr>\n",
       "    <tr>\n",
       "      <th>2.0</th>\n",
       "      <td>0.063310</td>\n",
       "      <td>0.062822</td>\n",
       "      <td>0.056625</td>\n",
       "      <td>0.072089</td>\n",
       "    </tr>\n",
       "    <tr>\n",
       "      <th>3.0</th>\n",
       "      <td>0.082380</td>\n",
       "      <td>0.101957</td>\n",
       "      <td>0.097395</td>\n",
       "      <td>0.072089</td>\n",
       "    </tr>\n",
       "    <tr>\n",
       "      <th>4.0</th>\n",
       "      <td>0.620137</td>\n",
       "      <td>0.609681</td>\n",
       "      <td>0.681767</td>\n",
       "      <td>0.234750</td>\n",
       "    </tr>\n",
       "    <tr>\n",
       "      <th rowspan=\"4\" valign=\"top\">Controles</th>\n",
       "      <th>1.0</th>\n",
       "      <td>0.003051</td>\n",
       "      <td>0.006179</td>\n",
       "      <td>0.014723</td>\n",
       "      <td>0.271719</td>\n",
       "    </tr>\n",
       "    <tr>\n",
       "      <th>2.0</th>\n",
       "      <td>0.013730</td>\n",
       "      <td>0.015448</td>\n",
       "      <td>0.022650</td>\n",
       "      <td>0.147874</td>\n",
       "    </tr>\n",
       "    <tr>\n",
       "      <th>3.0</th>\n",
       "      <td>0.045004</td>\n",
       "      <td>0.039135</td>\n",
       "      <td>0.078143</td>\n",
       "      <td>0.184843</td>\n",
       "    </tr>\n",
       "    <tr>\n",
       "      <th>4.0</th>\n",
       "      <td>0.938215</td>\n",
       "      <td>0.939238</td>\n",
       "      <td>0.884485</td>\n",
       "      <td>0.395564</td>\n",
       "    </tr>\n",
       "    <tr>\n",
       "      <th rowspan=\"4\" valign=\"top\">Tareas</th>\n",
       "      <th>1.0</th>\n",
       "      <td>0.012967</td>\n",
       "      <td>0.012358</td>\n",
       "      <td>0.005663</td>\n",
       "      <td>0.406654</td>\n",
       "    </tr>\n",
       "    <tr>\n",
       "      <th>2.0</th>\n",
       "      <td>0.020595</td>\n",
       "      <td>0.013388</td>\n",
       "      <td>0.026048</td>\n",
       "      <td>0.181146</td>\n",
       "    </tr>\n",
       "    <tr>\n",
       "      <th>3.0</th>\n",
       "      <td>0.042715</td>\n",
       "      <td>0.045314</td>\n",
       "      <td>0.047565</td>\n",
       "      <td>0.166359</td>\n",
       "    </tr>\n",
       "    <tr>\n",
       "      <th>4.0</th>\n",
       "      <td>0.923722</td>\n",
       "      <td>0.928939</td>\n",
       "      <td>0.920725</td>\n",
       "      <td>0.245841</td>\n",
       "    </tr>\n",
       "    <tr>\n",
       "      <th rowspan=\"4\" valign=\"top\">Formativos</th>\n",
       "      <th>1.0</th>\n",
       "      <td>0.011442</td>\n",
       "      <td>0.016478</td>\n",
       "      <td>0.004530</td>\n",
       "      <td>0.526802</td>\n",
       "    </tr>\n",
       "    <tr>\n",
       "      <th>2.0</th>\n",
       "      <td>0.015256</td>\n",
       "      <td>0.017508</td>\n",
       "      <td>0.026048</td>\n",
       "      <td>0.168207</td>\n",
       "    </tr>\n",
       "    <tr>\n",
       "      <th>3.0</th>\n",
       "      <td>0.041190</td>\n",
       "      <td>0.045314</td>\n",
       "      <td>0.063420</td>\n",
       "      <td>0.116451</td>\n",
       "    </tr>\n",
       "    <tr>\n",
       "      <th>4.0</th>\n",
       "      <td>0.932113</td>\n",
       "      <td>0.920700</td>\n",
       "      <td>0.906002</td>\n",
       "      <td>0.188540</td>\n",
       "    </tr>\n",
       "    <tr>\n",
       "      <th rowspan=\"4\" valign=\"top\">Actividades</th>\n",
       "      <th>1.0</th>\n",
       "      <td>0.003051</td>\n",
       "      <td>0.023687</td>\n",
       "      <td>0.997735</td>\n",
       "      <td>0.839187</td>\n",
       "    </tr>\n",
       "    <tr>\n",
       "      <th>2.0</th>\n",
       "      <td>0.022883</td>\n",
       "      <td>0.030896</td>\n",
       "      <td>0.002265</td>\n",
       "      <td>0.077634</td>\n",
       "    </tr>\n",
       "    <tr>\n",
       "      <th>3.0</th>\n",
       "      <td>0.058734</td>\n",
       "      <td>0.065911</td>\n",
       "      <td>0.000000</td>\n",
       "      <td>0.064695</td>\n",
       "    </tr>\n",
       "    <tr>\n",
       "      <th>4.0</th>\n",
       "      <td>0.915332</td>\n",
       "      <td>0.879506</td>\n",
       "      <td>0.000000</td>\n",
       "      <td>0.018484</td>\n",
       "    </tr>\n",
       "  </tbody>\n",
       "</table>\n",
       "</div>"
      ],
      "text/plain": [
       "labels                  0         1         2         3\n",
       "C1          0.0  0.010679  0.023687  0.015855  0.064695\n",
       "            1.0  0.139588  0.118435  0.275198  0.436229\n",
       "            2.0  0.083143  0.072091  0.132503  0.112754\n",
       "            3.0  0.069413  0.090628  0.103058  0.068392\n",
       "            4.0  0.697178  0.695160  0.473386  0.317930\n",
       "C2          0.0  0.115179  0.097837  0.084938  0.384473\n",
       "            1.0  0.118993  0.127703  0.079275  0.236599\n",
       "            2.0  0.063310  0.062822  0.056625  0.072089\n",
       "            3.0  0.082380  0.101957  0.097395  0.072089\n",
       "            4.0  0.620137  0.609681  0.681767  0.234750\n",
       "Controles   1.0  0.003051  0.006179  0.014723  0.271719\n",
       "            2.0  0.013730  0.015448  0.022650  0.147874\n",
       "            3.0  0.045004  0.039135  0.078143  0.184843\n",
       "            4.0  0.938215  0.939238  0.884485  0.395564\n",
       "Tareas      1.0  0.012967  0.012358  0.005663  0.406654\n",
       "            2.0  0.020595  0.013388  0.026048  0.181146\n",
       "            3.0  0.042715  0.045314  0.047565  0.166359\n",
       "            4.0  0.923722  0.928939  0.920725  0.245841\n",
       "Formativos  1.0  0.011442  0.016478  0.004530  0.526802\n",
       "            2.0  0.015256  0.017508  0.026048  0.168207\n",
       "            3.0  0.041190  0.045314  0.063420  0.116451\n",
       "            4.0  0.932113  0.920700  0.906002  0.188540\n",
       "Actividades 1.0  0.003051  0.023687  0.997735  0.839187\n",
       "            2.0  0.022883  0.030896  0.002265  0.077634\n",
       "            3.0  0.058734  0.065911  0.000000  0.064695\n",
       "            4.0  0.915332  0.879506  0.000000  0.018484"
      ]
     },
     "execution_count": 202,
     "metadata": {},
     "output_type": "execute_result"
    }
   ],
   "source": [
    "(pd.concat(\n",
    "    [\n",
    "    pd.crosstab(_df2['labels'],_df2['C1'],normalize='index').T,\n",
    "    pd.crosstab(_df2['labels'],_df2['C2'],normalize='index').T,\n",
    "    pd.crosstab(_df2['labels'],_df2['Promedio Controles'],normalize='index').T,\n",
    "    pd.crosstab(_df2['labels'],_df2['Promedio Tareas'],normalize='index').T,\n",
    "    pd.crosstab(_df2['labels'],_df2['Promedio Formativos'],normalize='index').T,\n",
    "    pd.crosstab(_df2['labels'],_df2['Promedio Actividades'],normalize='index').T\n",
    "    ]\n",
    "    ,keys=['C1','C2','Controles', 'Tareas','Formativos','Actividades'])\n",
    " \n",
    ")"
   ]
  },
  {
   "cell_type": "code",
   "execution_count": 18,
   "id": "14f0eff8-a796-47df-809f-b644acf22b5d",
   "metadata": {},
   "outputs": [
    {
     "data": {
      "application/vnd.plotly.v1+json": {
       "config": {
        "plotlyServerURL": "https://plot.ly"
       },
       "data": [
        {
         "domain": {
          "x": [
           0,
           1
          ],
          "y": [
           0,
           1
          ]
         },
         "hole": 0.3,
         "hovertemplate": "index=%{label}<br>labels=%{value}<extra></extra>",
         "labels": [
          "Cluster 0",
          "Cluster 1",
          "Cluster 2",
          "Cluster 3",
          "Cluster 4"
         ],
         "legendgroup": "",
         "name": "",
         "showlegend": false,
         "textinfo": "percent+label+value",
         "textposition": "auto",
         "type": "pie",
         "values": [
          405,
          430,
          616,
          1313,
          942
         ]
        }
       ],
       "layout": {
        "autosize": true,
        "legend": {
         "tracegroupgap": 0
        },
        "margin": {
         "t": 60
        },
        "template": {
         "data": {
          "bar": [
           {
            "error_x": {
             "color": "#2a3f5f"
            },
            "error_y": {
             "color": "#2a3f5f"
            },
            "marker": {
             "line": {
              "color": "#E5ECF6",
              "width": 0.5
             },
             "pattern": {
              "fillmode": "overlay",
              "size": 10,
              "solidity": 0.2
             }
            },
            "type": "bar"
           }
          ],
          "barpolar": [
           {
            "marker": {
             "line": {
              "color": "#E5ECF6",
              "width": 0.5
             },
             "pattern": {
              "fillmode": "overlay",
              "size": 10,
              "solidity": 0.2
             }
            },
            "type": "barpolar"
           }
          ],
          "carpet": [
           {
            "aaxis": {
             "endlinecolor": "#2a3f5f",
             "gridcolor": "white",
             "linecolor": "white",
             "minorgridcolor": "white",
             "startlinecolor": "#2a3f5f"
            },
            "baxis": {
             "endlinecolor": "#2a3f5f",
             "gridcolor": "white",
             "linecolor": "white",
             "minorgridcolor": "white",
             "startlinecolor": "#2a3f5f"
            },
            "type": "carpet"
           }
          ],
          "choropleth": [
           {
            "colorbar": {
             "outlinewidth": 0,
             "ticks": ""
            },
            "type": "choropleth"
           }
          ],
          "contour": [
           {
            "colorbar": {
             "outlinewidth": 0,
             "ticks": ""
            },
            "colorscale": [
             [
              0,
              "#0d0887"
             ],
             [
              0.1111111111111111,
              "#46039f"
             ],
             [
              0.2222222222222222,
              "#7201a8"
             ],
             [
              0.3333333333333333,
              "#9c179e"
             ],
             [
              0.4444444444444444,
              "#bd3786"
             ],
             [
              0.5555555555555556,
              "#d8576b"
             ],
             [
              0.6666666666666666,
              "#ed7953"
             ],
             [
              0.7777777777777778,
              "#fb9f3a"
             ],
             [
              0.8888888888888888,
              "#fdca26"
             ],
             [
              1,
              "#f0f921"
             ]
            ],
            "type": "contour"
           }
          ],
          "contourcarpet": [
           {
            "colorbar": {
             "outlinewidth": 0,
             "ticks": ""
            },
            "type": "contourcarpet"
           }
          ],
          "heatmap": [
           {
            "colorbar": {
             "outlinewidth": 0,
             "ticks": ""
            },
            "colorscale": [
             [
              0,
              "#0d0887"
             ],
             [
              0.1111111111111111,
              "#46039f"
             ],
             [
              0.2222222222222222,
              "#7201a8"
             ],
             [
              0.3333333333333333,
              "#9c179e"
             ],
             [
              0.4444444444444444,
              "#bd3786"
             ],
             [
              0.5555555555555556,
              "#d8576b"
             ],
             [
              0.6666666666666666,
              "#ed7953"
             ],
             [
              0.7777777777777778,
              "#fb9f3a"
             ],
             [
              0.8888888888888888,
              "#fdca26"
             ],
             [
              1,
              "#f0f921"
             ]
            ],
            "type": "heatmap"
           }
          ],
          "heatmapgl": [
           {
            "colorbar": {
             "outlinewidth": 0,
             "ticks": ""
            },
            "colorscale": [
             [
              0,
              "#0d0887"
             ],
             [
              0.1111111111111111,
              "#46039f"
             ],
             [
              0.2222222222222222,
              "#7201a8"
             ],
             [
              0.3333333333333333,
              "#9c179e"
             ],
             [
              0.4444444444444444,
              "#bd3786"
             ],
             [
              0.5555555555555556,
              "#d8576b"
             ],
             [
              0.6666666666666666,
              "#ed7953"
             ],
             [
              0.7777777777777778,
              "#fb9f3a"
             ],
             [
              0.8888888888888888,
              "#fdca26"
             ],
             [
              1,
              "#f0f921"
             ]
            ],
            "type": "heatmapgl"
           }
          ],
          "histogram": [
           {
            "marker": {
             "pattern": {
              "fillmode": "overlay",
              "size": 10,
              "solidity": 0.2
             }
            },
            "type": "histogram"
           }
          ],
          "histogram2d": [
           {
            "colorbar": {
             "outlinewidth": 0,
             "ticks": ""
            },
            "colorscale": [
             [
              0,
              "#0d0887"
             ],
             [
              0.1111111111111111,
              "#46039f"
             ],
             [
              0.2222222222222222,
              "#7201a8"
             ],
             [
              0.3333333333333333,
              "#9c179e"
             ],
             [
              0.4444444444444444,
              "#bd3786"
             ],
             [
              0.5555555555555556,
              "#d8576b"
             ],
             [
              0.6666666666666666,
              "#ed7953"
             ],
             [
              0.7777777777777778,
              "#fb9f3a"
             ],
             [
              0.8888888888888888,
              "#fdca26"
             ],
             [
              1,
              "#f0f921"
             ]
            ],
            "type": "histogram2d"
           }
          ],
          "histogram2dcontour": [
           {
            "colorbar": {
             "outlinewidth": 0,
             "ticks": ""
            },
            "colorscale": [
             [
              0,
              "#0d0887"
             ],
             [
              0.1111111111111111,
              "#46039f"
             ],
             [
              0.2222222222222222,
              "#7201a8"
             ],
             [
              0.3333333333333333,
              "#9c179e"
             ],
             [
              0.4444444444444444,
              "#bd3786"
             ],
             [
              0.5555555555555556,
              "#d8576b"
             ],
             [
              0.6666666666666666,
              "#ed7953"
             ],
             [
              0.7777777777777778,
              "#fb9f3a"
             ],
             [
              0.8888888888888888,
              "#fdca26"
             ],
             [
              1,
              "#f0f921"
             ]
            ],
            "type": "histogram2dcontour"
           }
          ],
          "mesh3d": [
           {
            "colorbar": {
             "outlinewidth": 0,
             "ticks": ""
            },
            "type": "mesh3d"
           }
          ],
          "parcoords": [
           {
            "line": {
             "colorbar": {
              "outlinewidth": 0,
              "ticks": ""
             }
            },
            "type": "parcoords"
           }
          ],
          "pie": [
           {
            "automargin": true,
            "type": "pie"
           }
          ],
          "scatter": [
           {
            "fillpattern": {
             "fillmode": "overlay",
             "size": 10,
             "solidity": 0.2
            },
            "type": "scatter"
           }
          ],
          "scatter3d": [
           {
            "line": {
             "colorbar": {
              "outlinewidth": 0,
              "ticks": ""
             }
            },
            "marker": {
             "colorbar": {
              "outlinewidth": 0,
              "ticks": ""
             }
            },
            "type": "scatter3d"
           }
          ],
          "scattercarpet": [
           {
            "marker": {
             "colorbar": {
              "outlinewidth": 0,
              "ticks": ""
             }
            },
            "type": "scattercarpet"
           }
          ],
          "scattergeo": [
           {
            "marker": {
             "colorbar": {
              "outlinewidth": 0,
              "ticks": ""
             }
            },
            "type": "scattergeo"
           }
          ],
          "scattergl": [
           {
            "marker": {
             "colorbar": {
              "outlinewidth": 0,
              "ticks": ""
             }
            },
            "type": "scattergl"
           }
          ],
          "scattermapbox": [
           {
            "marker": {
             "colorbar": {
              "outlinewidth": 0,
              "ticks": ""
             }
            },
            "type": "scattermapbox"
           }
          ],
          "scatterpolar": [
           {
            "marker": {
             "colorbar": {
              "outlinewidth": 0,
              "ticks": ""
             }
            },
            "type": "scatterpolar"
           }
          ],
          "scatterpolargl": [
           {
            "marker": {
             "colorbar": {
              "outlinewidth": 0,
              "ticks": ""
             }
            },
            "type": "scatterpolargl"
           }
          ],
          "scatterternary": [
           {
            "marker": {
             "colorbar": {
              "outlinewidth": 0,
              "ticks": ""
             }
            },
            "type": "scatterternary"
           }
          ],
          "surface": [
           {
            "colorbar": {
             "outlinewidth": 0,
             "ticks": ""
            },
            "colorscale": [
             [
              0,
              "#0d0887"
             ],
             [
              0.1111111111111111,
              "#46039f"
             ],
             [
              0.2222222222222222,
              "#7201a8"
             ],
             [
              0.3333333333333333,
              "#9c179e"
             ],
             [
              0.4444444444444444,
              "#bd3786"
             ],
             [
              0.5555555555555556,
              "#d8576b"
             ],
             [
              0.6666666666666666,
              "#ed7953"
             ],
             [
              0.7777777777777778,
              "#fb9f3a"
             ],
             [
              0.8888888888888888,
              "#fdca26"
             ],
             [
              1,
              "#f0f921"
             ]
            ],
            "type": "surface"
           }
          ],
          "table": [
           {
            "cells": {
             "fill": {
              "color": "#EBF0F8"
             },
             "line": {
              "color": "white"
             }
            },
            "header": {
             "fill": {
              "color": "#C8D4E3"
             },
             "line": {
              "color": "white"
             }
            },
            "type": "table"
           }
          ]
         },
         "layout": {
          "annotationdefaults": {
           "arrowcolor": "#2a3f5f",
           "arrowhead": 0,
           "arrowwidth": 1
          },
          "autotypenumbers": "strict",
          "coloraxis": {
           "colorbar": {
            "outlinewidth": 0,
            "ticks": ""
           }
          },
          "colorscale": {
           "diverging": [
            [
             0,
             "#8e0152"
            ],
            [
             0.1,
             "#c51b7d"
            ],
            [
             0.2,
             "#de77ae"
            ],
            [
             0.3,
             "#f1b6da"
            ],
            [
             0.4,
             "#fde0ef"
            ],
            [
             0.5,
             "#f7f7f7"
            ],
            [
             0.6,
             "#e6f5d0"
            ],
            [
             0.7,
             "#b8e186"
            ],
            [
             0.8,
             "#7fbc41"
            ],
            [
             0.9,
             "#4d9221"
            ],
            [
             1,
             "#276419"
            ]
           ],
           "sequential": [
            [
             0,
             "#0d0887"
            ],
            [
             0.1111111111111111,
             "#46039f"
            ],
            [
             0.2222222222222222,
             "#7201a8"
            ],
            [
             0.3333333333333333,
             "#9c179e"
            ],
            [
             0.4444444444444444,
             "#bd3786"
            ],
            [
             0.5555555555555556,
             "#d8576b"
            ],
            [
             0.6666666666666666,
             "#ed7953"
            ],
            [
             0.7777777777777778,
             "#fb9f3a"
            ],
            [
             0.8888888888888888,
             "#fdca26"
            ],
            [
             1,
             "#f0f921"
            ]
           ],
           "sequentialminus": [
            [
             0,
             "#0d0887"
            ],
            [
             0.1111111111111111,
             "#46039f"
            ],
            [
             0.2222222222222222,
             "#7201a8"
            ],
            [
             0.3333333333333333,
             "#9c179e"
            ],
            [
             0.4444444444444444,
             "#bd3786"
            ],
            [
             0.5555555555555556,
             "#d8576b"
            ],
            [
             0.6666666666666666,
             "#ed7953"
            ],
            [
             0.7777777777777778,
             "#fb9f3a"
            ],
            [
             0.8888888888888888,
             "#fdca26"
            ],
            [
             1,
             "#f0f921"
            ]
           ]
          },
          "colorway": [
           "#636efa",
           "#EF553B",
           "#00cc96",
           "#ab63fa",
           "#FFA15A",
           "#19d3f3",
           "#FF6692",
           "#B6E880",
           "#FF97FF",
           "#FECB52"
          ],
          "font": {
           "color": "#2a3f5f"
          },
          "geo": {
           "bgcolor": "white",
           "lakecolor": "white",
           "landcolor": "#E5ECF6",
           "showlakes": true,
           "showland": true,
           "subunitcolor": "white"
          },
          "hoverlabel": {
           "align": "left"
          },
          "hovermode": "closest",
          "mapbox": {
           "style": "light"
          },
          "paper_bgcolor": "white",
          "plot_bgcolor": "#E5ECF6",
          "polar": {
           "angularaxis": {
            "gridcolor": "white",
            "linecolor": "white",
            "ticks": ""
           },
           "bgcolor": "#E5ECF6",
           "radialaxis": {
            "gridcolor": "white",
            "linecolor": "white",
            "ticks": ""
           }
          },
          "scene": {
           "xaxis": {
            "backgroundcolor": "#E5ECF6",
            "gridcolor": "white",
            "gridwidth": 2,
            "linecolor": "white",
            "showbackground": true,
            "ticks": "",
            "zerolinecolor": "white"
           },
           "yaxis": {
            "backgroundcolor": "#E5ECF6",
            "gridcolor": "white",
            "gridwidth": 2,
            "linecolor": "white",
            "showbackground": true,
            "ticks": "",
            "zerolinecolor": "white"
           },
           "zaxis": {
            "backgroundcolor": "#E5ECF6",
            "gridcolor": "white",
            "gridwidth": 2,
            "linecolor": "white",
            "showbackground": true,
            "ticks": "",
            "zerolinecolor": "white"
           }
          },
          "shapedefaults": {
           "line": {
            "color": "#2a3f5f"
           }
          },
          "ternary": {
           "aaxis": {
            "gridcolor": "white",
            "linecolor": "white",
            "ticks": ""
           },
           "baxis": {
            "gridcolor": "white",
            "linecolor": "white",
            "ticks": ""
           },
           "bgcolor": "#E5ECF6",
           "caxis": {
            "gridcolor": "white",
            "linecolor": "white",
            "ticks": ""
           }
          },
          "title": {
           "x": 0.05
          },
          "xaxis": {
           "automargin": true,
           "gridcolor": "white",
           "linecolor": "white",
           "ticks": "",
           "title": {
            "standoff": 15
           },
           "zerolinecolor": "white",
           "zerolinewidth": 2
          },
          "yaxis": {
           "automargin": true,
           "gridcolor": "white",
           "linecolor": "white",
           "ticks": "",
           "title": {
            "standoff": 15
           },
           "zerolinecolor": "white",
           "zerolinewidth": 2
          }
         }
        }
       }
      },
      "image/png": "[encoded data removed]",
      "text/html": [
       "<div>                            <div id=\"0dd42674-ebb1-449c-9e60-37230ef56bdd\" class=\"plotly-graph-div\" style=\"height:525px; width:100%;\"></div>            <script type=\"text/javascript\">                require([\"plotly\"], function(Plotly) {                    window.PLOTLYENV=window.PLOTLYENV || {};                                    if (document.getElementById(\"0dd42674-ebb1-449c-9e60-37230ef56bdd\")) {                    Plotly.newPlot(                        \"0dd42674-ebb1-449c-9e60-37230ef56bdd\",                        [{\"domain\":{\"x\":[0.0,1.0],\"y\":[0.0,1.0]},\"hole\":0.3,\"hovertemplate\":\"index=%{label}<br>labels=%{value}<extra></extra>\",\"labels\":[\"Cluster 0\",\"Cluster 1\",\"Cluster 2\",\"Cluster 3\",\"Cluster 4\"],\"legendgroup\":\"\",\"name\":\"\",\"showlegend\":false,\"values\":[405,430,616,1313,942],\"type\":\"pie\",\"textinfo\":\"percent+label+value\",\"textposition\":\"auto\"}],                        {\"template\":{\"data\":{\"histogram2dcontour\":[{\"type\":\"histogram2dcontour\",\"colorbar\":{\"outlinewidth\":0,\"ticks\":\"\"},\"colorscale\":[[0.0,\"#0d0887\"],[0.1111111111111111,\"#46039f\"],[0.2222222222222222,\"#7201a8\"],[0.3333333333333333,\"#9c179e\"],[0.4444444444444444,\"#bd3786\"],[0.5555555555555556,\"#d8576b\"],[0.6666666666666666,\"#ed7953\"],[0.7777777777777778,\"#fb9f3a\"],[0.8888888888888888,\"#fdca26\"],[1.0,\"#f0f921\"]]}],\"choropleth\":[{\"type\":\"choropleth\",\"colorbar\":{\"outlinewidth\":0,\"ticks\":\"\"}}],\"histogram2d\":[{\"type\":\"histogram2d\",\"colorbar\":{\"outlinewidth\":0,\"ticks\":\"\"},\"colorscale\":[[0.0,\"#0d0887\"],[0.1111111111111111,\"#46039f\"],[0.2222222222222222,\"#7201a8\"],[0.3333333333333333,\"#9c179e\"],[0.4444444444444444,\"#bd3786\"],[0.5555555555555556,\"#d8576b\"],[0.6666666666666666,\"#ed7953\"],[0.7777777777777778,\"#fb9f3a\"],[0.8888888888888888,\"#fdca26\"],[1.0,\"#f0f921\"]]}],\"heatmap\":[{\"type\":\"heatmap\",\"colorbar\":{\"outlinewidth\":0,\"ticks\":\"\"},\"colorscale\":[[0.0,\"#0d0887\"],[0.1111111111111111,\"#46039f\"],[0.2222222222222222,\"#7201a8\"],[0.3333333333333333,\"#9c179e\"],[0.4444444444444444,\"#bd3786\"],[0.5555555555555556,\"#d8576b\"],[0.6666666666666666,\"#ed7953\"],[0.7777777777777778,\"#fb9f3a\"],[0.8888888888888888,\"#fdca26\"],[1.0,\"#f0f921\"]]}],\"heatmapgl\":[{\"type\":\"heatmapgl\",\"colorbar\":{\"outlinewidth\":0,\"ticks\":\"\"},\"colorscale\":[[0.0,\"#0d0887\"],[0.1111111111111111,\"#46039f\"],[0.2222222222222222,\"#7201a8\"],[0.3333333333333333,\"#9c179e\"],[0.4444444444444444,\"#bd3786\"],[0.5555555555555556,\"#d8576b\"],[0.6666666666666666,\"#ed7953\"],[0.7777777777777778,\"#fb9f3a\"],[0.8888888888888888,\"#fdca26\"],[1.0,\"#f0f921\"]]}],\"contourcarpet\":[{\"type\":\"contourcarpet\",\"colorbar\":{\"outlinewidth\":0,\"ticks\":\"\"}}],\"contour\":[{\"type\":\"contour\",\"colorbar\":{\"outlinewidth\":0,\"ticks\":\"\"},\"colorscale\":[[0.0,\"#0d0887\"],[0.1111111111111111,\"#46039f\"],[0.2222222222222222,\"#7201a8\"],[0.3333333333333333,\"#9c179e\"],[0.4444444444444444,\"#bd3786\"],[0.5555555555555556,\"#d8576b\"],[0.6666666666666666,\"#ed7953\"],[0.7777777777777778,\"#fb9f3a\"],[0.8888888888888888,\"#fdca26\"],[1.0,\"#f0f921\"]]}],\"surface\":[{\"type\":\"surface\",\"colorbar\":{\"outlinewidth\":0,\"ticks\":\"\"},\"colorscale\":[[0.0,\"#0d0887\"],[0.1111111111111111,\"#46039f\"],[0.2222222222222222,\"#7201a8\"],[0.3333333333333333,\"#9c179e\"],[0.4444444444444444,\"#bd3786\"],[0.5555555555555556,\"#d8576b\"],[0.6666666666666666,\"#ed7953\"],[0.7777777777777778,\"#fb9f3a\"],[0.8888888888888888,\"#fdca26\"],[1.0,\"#f0f921\"]]}],\"mesh3d\":[{\"type\":\"mesh3d\",\"colorbar\":{\"outlinewidth\":0,\"ticks\":\"\"}}],\"scatter\":[{\"fillpattern\":{\"fillmode\":\"overlay\",\"size\":10,\"solidity\":0.2},\"type\":\"scatter\"}],\"parcoords\":[{\"type\":\"parcoords\",\"line\":{\"colorbar\":{\"outlinewidth\":0,\"ticks\":\"\"}}}],\"scatterpolargl\":[{\"type\":\"scatterpolargl\",\"marker\":{\"colorbar\":{\"outlinewidth\":0,\"ticks\":\"\"}}}],\"bar\":[{\"error_x\":{\"color\":\"#2a3f5f\"},\"error_y\":{\"color\":\"#2a3f5f\"},\"marker\":{\"line\":{\"color\":\"#E5ECF6\",\"width\":0.5},\"pattern\":{\"fillmode\":\"overlay\",\"size\":10,\"solidity\":0.2}},\"type\":\"bar\"}],\"scattergeo\":[{\"type\":\"scattergeo\",\"marker\":{\"colorbar\":{\"outlinewidth\":0,\"ticks\":\"\"}}}],\"scatterpolar\":[{\"type\":\"scatterpolar\",\"marker\":{\"colorbar\":{\"outlinewidth\":0,\"ticks\":\"\"}}}],\"histogram\":[{\"marker\":{\"pattern\":{\"fillmode\":\"overlay\",\"size\":10,\"solidity\":0.2}},\"type\":\"histogram\"}],\"scattergl\":[{\"type\":\"scattergl\",\"marker\":{\"colorbar\":{\"outlinewidth\":0,\"ticks\":\"\"}}}],\"scatter3d\":[{\"type\":\"scatter3d\",\"line\":{\"colorbar\":{\"outlinewidth\":0,\"ticks\":\"\"}},\"marker\":{\"colorbar\":{\"outlinewidth\":0,\"ticks\":\"\"}}}],\"scattermapbox\":[{\"type\":\"scattermapbox\",\"marker\":{\"colorbar\":{\"outlinewidth\":0,\"ticks\":\"\"}}}],\"scatterternary\":[{\"type\":\"scatterternary\",\"marker\":{\"colorbar\":{\"outlinewidth\":0,\"ticks\":\"\"}}}],\"scattercarpet\":[{\"type\":\"scattercarpet\",\"marker\":{\"colorbar\":{\"outlinewidth\":0,\"ticks\":\"\"}}}],\"carpet\":[{\"aaxis\":{\"endlinecolor\":\"#2a3f5f\",\"gridcolor\":\"white\",\"linecolor\":\"white\",\"minorgridcolor\":\"white\",\"startlinecolor\":\"#2a3f5f\"},\"baxis\":{\"endlinecolor\":\"#2a3f5f\",\"gridcolor\":\"white\",\"linecolor\":\"white\",\"minorgridcolor\":\"white\",\"startlinecolor\":\"#2a3f5f\"},\"type\":\"carpet\"}],\"table\":[{\"cells\":{\"fill\":{\"color\":\"#EBF0F8\"},\"line\":{\"color\":\"white\"}},\"header\":{\"fill\":{\"color\":\"#C8D4E3\"},\"line\":{\"color\":\"white\"}},\"type\":\"table\"}],\"barpolar\":[{\"marker\":{\"line\":{\"color\":\"#E5ECF6\",\"width\":0.5},\"pattern\":{\"fillmode\":\"overlay\",\"size\":10,\"solidity\":0.2}},\"type\":\"barpolar\"}],\"pie\":[{\"automargin\":true,\"type\":\"pie\"}]},\"layout\":{\"autotypenumbers\":\"strict\",\"colorway\":[\"#636efa\",\"#EF553B\",\"#00cc96\",\"#ab63fa\",\"#FFA15A\",\"#19d3f3\",\"#FF6692\",\"#B6E880\",\"#FF97FF\",\"#FECB52\"],\"font\":{\"color\":\"#2a3f5f\"},\"hovermode\":\"closest\",\"hoverlabel\":{\"align\":\"left\"},\"paper_bgcolor\":\"white\",\"plot_bgcolor\":\"#E5ECF6\",\"polar\":{\"bgcolor\":\"#E5ECF6\",\"angularaxis\":{\"gridcolor\":\"white\",\"linecolor\":\"white\",\"ticks\":\"\"},\"radialaxis\":{\"gridcolor\":\"white\",\"linecolor\":\"white\",\"ticks\":\"\"}},\"ternary\":{\"bgcolor\":\"#E5ECF6\",\"aaxis\":{\"gridcolor\":\"white\",\"linecolor\":\"white\",\"ticks\":\"\"},\"baxis\":{\"gridcolor\":\"white\",\"linecolor\":\"white\",\"ticks\":\"\"},\"caxis\":{\"gridcolor\":\"white\",\"linecolor\":\"white\",\"ticks\":\"\"}},\"coloraxis\":{\"colorbar\":{\"outlinewidth\":0,\"ticks\":\"\"}},\"colorscale\":{\"sequential\":[[0.0,\"#0d0887\"],[0.1111111111111111,\"#46039f\"],[0.2222222222222222,\"#7201a8\"],[0.3333333333333333,\"#9c179e\"],[0.4444444444444444,\"#bd3786\"],[0.5555555555555556,\"#d8576b\"],[0.6666666666666666,\"#ed7953\"],[0.7777777777777778,\"#fb9f3a\"],[0.8888888888888888,\"#fdca26\"],[1.0,\"#f0f921\"]],\"sequentialminus\":[[0.0,\"#0d0887\"],[0.1111111111111111,\"#46039f\"],[0.2222222222222222,\"#7201a8\"],[0.3333333333333333,\"#9c179e\"],[0.4444444444444444,\"#bd3786\"],[0.5555555555555556,\"#d8576b\"],[0.6666666666666666,\"#ed7953\"],[0.7777777777777778,\"#fb9f3a\"],[0.8888888888888888,\"#fdca26\"],[1.0,\"#f0f921\"]],\"diverging\":[[0,\"#8e0152\"],[0.1,\"#c51b7d\"],[0.2,\"#de77ae\"],[0.3,\"#f1b6da\"],[0.4,\"#fde0ef\"],[0.5,\"#f7f7f7\"],[0.6,\"#e6f5d0\"],[0.7,\"#b8e186\"],[0.8,\"#7fbc41\"],[0.9,\"#4d9221\"],[1,\"#276419\"]]},\"xaxis\":{\"gridcolor\":\"white\",\"linecolor\":\"white\",\"ticks\":\"\",\"title\":{\"standoff\":15},\"zerolinecolor\":\"white\",\"automargin\":true,\"zerolinewidth\":2},\"yaxis\":{\"gridcolor\":\"white\",\"linecolor\":\"white\",\"ticks\":\"\",\"title\":{\"standoff\":15},\"zerolinecolor\":\"white\",\"automargin\":true,\"zerolinewidth\":2},\"scene\":{\"xaxis\":{\"backgroundcolor\":\"#E5ECF6\",\"gridcolor\":\"white\",\"linecolor\":\"white\",\"showbackground\":true,\"ticks\":\"\",\"zerolinecolor\":\"white\",\"gridwidth\":2},\"yaxis\":{\"backgroundcolor\":\"#E5ECF6\",\"gridcolor\":\"white\",\"linecolor\":\"white\",\"showbackground\":true,\"ticks\":\"\",\"zerolinecolor\":\"white\",\"gridwidth\":2},\"zaxis\":{\"backgroundcolor\":\"#E5ECF6\",\"gridcolor\":\"white\",\"linecolor\":\"white\",\"showbackground\":true,\"ticks\":\"\",\"zerolinecolor\":\"white\",\"gridwidth\":2}},\"shapedefaults\":{\"line\":{\"color\":\"#2a3f5f\"}},\"annotationdefaults\":{\"arrowcolor\":\"#2a3f5f\",\"arrowhead\":0,\"arrowwidth\":1},\"geo\":{\"bgcolor\":\"white\",\"landcolor\":\"#E5ECF6\",\"subunitcolor\":\"white\",\"showland\":true,\"showlakes\":true,\"lakecolor\":\"white\"},\"title\":{\"x\":0.05},\"mapbox\":{\"style\":\"light\"}}},\"legend\":{\"tracegroupgap\":0},\"margin\":{\"t\":60}},                        {\"responsive\": true}                    ).then(function(){\n",
       "                            \n",
       "var gd = document.getElementById('0dd42674-ebb1-449c-9e60-37230ef56bdd');\n",
       "var x = new MutationObserver(function (mutations, observer) {{\n",
       "        var display = window.getComputedStyle(gd).display;\n",
       "        if (!display || display === 'none') {{\n",
       "            console.log([gd, 'removed!']);\n",
       "            Plotly.purge(gd);\n",
       "            observer.disconnect();\n",
       "        }}\n",
       "}});\n",
       "\n",
       "// Listen for the removal of the full notebook cells\n",
       "var notebookContainer = gd.closest('#notebook-container');\n",
       "if (notebookContainer) {{\n",
       "    x.observe(notebookContainer, {childList: true});\n",
       "}}\n",
       "\n",
       "// Listen for the clearing of the current output cell\n",
       "var outputEl = gd.closest('.output');\n",
       "if (outputEl) {{\n",
       "    x.observe(outputEl, {childList: true});\n",
       "}}\n",
       "\n",
       "                        })                };                });            </script>        </div>"
      ]
     },
     "metadata": {},
     "output_type": "display_data"
    }
   ],
   "source": [
    "import plotly.express as px\n",
    "# This dataframe has 244 lines, but 4 distinct values for `day`\n",
    "df_pie=df.labels.sort_values().value_counts(sort=False).to_frame().reset_index()\n",
    "df_pie['index']= [f'Cluster {i}' for i in range(len(df_pie))]\n",
    "fig = px.pie(df_pie, values='labels', names='index',hole=0.3)\n",
    "fig.update_traces(textposition='auto', textinfo='percent+label+value',showlegend=False)\n",
    "fig.show()\n",
    "fig.write_image('KMeansPie.png',scale=.9)"
   ]
  },
  {
   "cell_type": "code",
   "execution_count": 19,
   "id": "30e19fab-7a9e-4128-ad20-47be8f485af9",
   "metadata": {},
   "outputs": [],
   "source": [
    "df.to_csv('df_kmeans.csv',index=False)"
   ]
  },
  {
   "cell_type": "markdown",
   "id": "e3f5612f-4941-4694-8392-40980f753751",
   "metadata": {},
   "source": [
    "# Validacion"
   ]
  },
  {
   "cell_type": "code",
   "execution_count": 1,
   "id": "04f9179d-a85f-4d08-a382-e0c1a6e30abe",
   "metadata": {},
   "outputs": [
    {
     "ename": "NameError",
     "evalue": "name 'pd' is not defined",
     "output_type": "error",
     "traceback": [
      "\u001b[0;31m---------------------------------------------------------------------------\u001b[0m",
      "\u001b[0;31mNameError\u001b[0m                                 Traceback (most recent call last)",
      "\u001b[0;32m/tmp/ipykernel_91006/65132753.py\u001b[0m in \u001b[0;36m<module>\u001b[0;34m\u001b[0m\n\u001b[0;32m----> 1\u001b[0;31m \u001b[0mdf\u001b[0m\u001b[0;34m=\u001b[0m\u001b[0mpd\u001b[0m\u001b[0;34m.\u001b[0m\u001b[0mread_csv\u001b[0m\u001b[0;34m(\u001b[0m\u001b[0;34m'df_kmeans.csv'\u001b[0m\u001b[0;34m)\u001b[0m\u001b[0;34m\u001b[0m\u001b[0;34m\u001b[0m\u001b[0m\n\u001b[0m",
      "\u001b[0;31mNameError\u001b[0m: name 'pd' is not defined"
     ]
    }
   ],
   "source": [
    "df=pd.read_csv('df_kmeans.csv')"
   ]
  },
  {
   "cell_type": "code",
   "execution_count": 227,
   "id": "4c1a0467-badd-4fc5-a90b-cfea70245131",
   "metadata": {},
   "outputs": [
    {
     "data": {
      "text/html": [
       "<div>\n",
       "<style scoped>\n",
       "    .dataframe tbody tr th:only-of-type {\n",
       "        vertical-align: middle;\n",
       "    }\n",
       "\n",
       "    .dataframe tbody tr th {\n",
       "        vertical-align: top;\n",
       "    }\n",
       "\n",
       "    .dataframe thead th {\n",
       "        text-align: right;\n",
       "    }\n",
       "</style>\n",
       "<table border=\"1\" class=\"dataframe\">\n",
       "  <thead>\n",
       "    <tr style=\"text-align: right;\">\n",
       "      <th></th>\n",
       "      <th>C1</th>\n",
       "      <th>C2</th>\n",
       "      <th>CR</th>\n",
       "      <th>S1</th>\n",
       "      <th>S2</th>\n",
       "      <th>S3</th>\n",
       "      <th>S4</th>\n",
       "      <th>S5</th>\n",
       "      <th>S6</th>\n",
       "      <th>S7</th>\n",
       "      <th>...</th>\n",
       "      <th>SM5</th>\n",
       "      <th>SM6</th>\n",
       "      <th>SM7</th>\n",
       "      <th>SM8</th>\n",
       "      <th>NF</th>\n",
       "      <th>Carrera</th>\n",
       "      <th>Campus</th>\n",
       "      <th>Sem</th>\n",
       "      <th>Sexo</th>\n",
       "      <th>Apr</th>\n",
       "    </tr>\n",
       "  </thead>\n",
       "  <tbody>\n",
       "    <tr>\n",
       "      <th>0</th>\n",
       "      <td>84</td>\n",
       "      <td>50</td>\n",
       "      <td>0</td>\n",
       "      <td>100</td>\n",
       "      <td>0</td>\n",
       "      <td>100</td>\n",
       "      <td>40</td>\n",
       "      <td>100</td>\n",
       "      <td>40</td>\n",
       "      <td>100</td>\n",
       "      <td>...</td>\n",
       "      <td>0</td>\n",
       "      <td>100</td>\n",
       "      <td>100</td>\n",
       "      <td>100</td>\n",
       "      <td>66</td>\n",
       "      <td>10</td>\n",
       "      <td>1.0</td>\n",
       "      <td>2.0</td>\n",
       "      <td>0</td>\n",
       "      <td>1</td>\n",
       "    </tr>\n",
       "    <tr>\n",
       "      <th>1</th>\n",
       "      <td>43</td>\n",
       "      <td>55</td>\n",
       "      <td>55</td>\n",
       "      <td>100</td>\n",
       "      <td>60</td>\n",
       "      <td>100</td>\n",
       "      <td>0</td>\n",
       "      <td>80</td>\n",
       "      <td>80</td>\n",
       "      <td>100</td>\n",
       "      <td>...</td>\n",
       "      <td>100</td>\n",
       "      <td>100</td>\n",
       "      <td>100</td>\n",
       "      <td>100</td>\n",
       "      <td>70</td>\n",
       "      <td>10</td>\n",
       "      <td>1.0</td>\n",
       "      <td>2.0</td>\n",
       "      <td>1</td>\n",
       "      <td>1</td>\n",
       "    </tr>\n",
       "    <tr>\n",
       "      <th>2</th>\n",
       "      <td>73</td>\n",
       "      <td>40</td>\n",
       "      <td>0</td>\n",
       "      <td>100</td>\n",
       "      <td>100</td>\n",
       "      <td>100</td>\n",
       "      <td>100</td>\n",
       "      <td>80</td>\n",
       "      <td>100</td>\n",
       "      <td>100</td>\n",
       "      <td>...</td>\n",
       "      <td>100</td>\n",
       "      <td>100</td>\n",
       "      <td>100</td>\n",
       "      <td>100</td>\n",
       "      <td>64</td>\n",
       "      <td>10</td>\n",
       "      <td>1.0</td>\n",
       "      <td>2.0</td>\n",
       "      <td>0</td>\n",
       "      <td>1</td>\n",
       "    </tr>\n",
       "    <tr>\n",
       "      <th>3</th>\n",
       "      <td>100</td>\n",
       "      <td>85</td>\n",
       "      <td>0</td>\n",
       "      <td>100</td>\n",
       "      <td>100</td>\n",
       "      <td>100</td>\n",
       "      <td>100</td>\n",
       "      <td>100</td>\n",
       "      <td>100</td>\n",
       "      <td>100</td>\n",
       "      <td>...</td>\n",
       "      <td>100</td>\n",
       "      <td>100</td>\n",
       "      <td>100</td>\n",
       "      <td>100</td>\n",
       "      <td>95</td>\n",
       "      <td>10</td>\n",
       "      <td>1.0</td>\n",
       "      <td>2.0</td>\n",
       "      <td>0</td>\n",
       "      <td>1</td>\n",
       "    </tr>\n",
       "    <tr>\n",
       "      <th>4</th>\n",
       "      <td>90</td>\n",
       "      <td>15</td>\n",
       "      <td>20</td>\n",
       "      <td>100</td>\n",
       "      <td>100</td>\n",
       "      <td>100</td>\n",
       "      <td>80</td>\n",
       "      <td>100</td>\n",
       "      <td>80</td>\n",
       "      <td>100</td>\n",
       "      <td>...</td>\n",
       "      <td>100</td>\n",
       "      <td>100</td>\n",
       "      <td>100</td>\n",
       "      <td>100</td>\n",
       "      <td>70</td>\n",
       "      <td>11</td>\n",
       "      <td>1.0</td>\n",
       "      <td>2.0</td>\n",
       "      <td>0</td>\n",
       "      <td>1</td>\n",
       "    </tr>\n",
       "    <tr>\n",
       "      <th>...</th>\n",
       "      <td>...</td>\n",
       "      <td>...</td>\n",
       "      <td>...</td>\n",
       "      <td>...</td>\n",
       "      <td>...</td>\n",
       "      <td>...</td>\n",
       "      <td>...</td>\n",
       "      <td>...</td>\n",
       "      <td>...</td>\n",
       "      <td>...</td>\n",
       "      <td>...</td>\n",
       "      <td>...</td>\n",
       "      <td>...</td>\n",
       "      <td>...</td>\n",
       "      <td>...</td>\n",
       "      <td>...</td>\n",
       "      <td>...</td>\n",
       "      <td>...</td>\n",
       "      <td>...</td>\n",
       "      <td>...</td>\n",
       "      <td>...</td>\n",
       "    </tr>\n",
       "    <tr>\n",
       "      <th>1187</th>\n",
       "      <td>0</td>\n",
       "      <td>90</td>\n",
       "      <td>50</td>\n",
       "      <td>0</td>\n",
       "      <td>60</td>\n",
       "      <td>75</td>\n",
       "      <td>80</td>\n",
       "      <td>80</td>\n",
       "      <td>40</td>\n",
       "      <td>100</td>\n",
       "      <td>...</td>\n",
       "      <td>0</td>\n",
       "      <td>0</td>\n",
       "      <td>0</td>\n",
       "      <td>0</td>\n",
       "      <td>49</td>\n",
       "      <td>15</td>\n",
       "      <td>2.0</td>\n",
       "      <td>2.0</td>\n",
       "      <td>0</td>\n",
       "      <td>0</td>\n",
       "    </tr>\n",
       "    <tr>\n",
       "      <th>1188</th>\n",
       "      <td>86</td>\n",
       "      <td>30</td>\n",
       "      <td>0</td>\n",
       "      <td>100</td>\n",
       "      <td>100</td>\n",
       "      <td>100</td>\n",
       "      <td>100</td>\n",
       "      <td>0</td>\n",
       "      <td>60</td>\n",
       "      <td>100</td>\n",
       "      <td>...</td>\n",
       "      <td>0</td>\n",
       "      <td>0</td>\n",
       "      <td>0</td>\n",
       "      <td>0</td>\n",
       "      <td>65</td>\n",
       "      <td>15</td>\n",
       "      <td>2.0</td>\n",
       "      <td>2.0</td>\n",
       "      <td>0</td>\n",
       "      <td>1</td>\n",
       "    </tr>\n",
       "    <tr>\n",
       "      <th>1189</th>\n",
       "      <td>89</td>\n",
       "      <td>90</td>\n",
       "      <td>0</td>\n",
       "      <td>100</td>\n",
       "      <td>100</td>\n",
       "      <td>100</td>\n",
       "      <td>60</td>\n",
       "      <td>100</td>\n",
       "      <td>100</td>\n",
       "      <td>100</td>\n",
       "      <td>...</td>\n",
       "      <td>100</td>\n",
       "      <td>100</td>\n",
       "      <td>100</td>\n",
       "      <td>0</td>\n",
       "      <td>93</td>\n",
       "      <td>15</td>\n",
       "      <td>2.0</td>\n",
       "      <td>2.0</td>\n",
       "      <td>1</td>\n",
       "      <td>1</td>\n",
       "    </tr>\n",
       "    <tr>\n",
       "      <th>1190</th>\n",
       "      <td>86</td>\n",
       "      <td>30</td>\n",
       "      <td>0</td>\n",
       "      <td>100</td>\n",
       "      <td>60</td>\n",
       "      <td>12</td>\n",
       "      <td>60</td>\n",
       "      <td>80</td>\n",
       "      <td>60</td>\n",
       "      <td>80</td>\n",
       "      <td>...</td>\n",
       "      <td>100</td>\n",
       "      <td>100</td>\n",
       "      <td>0</td>\n",
       "      <td>100</td>\n",
       "      <td>60</td>\n",
       "      <td>15</td>\n",
       "      <td>2.0</td>\n",
       "      <td>2.0</td>\n",
       "      <td>0</td>\n",
       "      <td>1</td>\n",
       "    </tr>\n",
       "    <tr>\n",
       "      <th>1191</th>\n",
       "      <td>37</td>\n",
       "      <td>30</td>\n",
       "      <td>0</td>\n",
       "      <td>100</td>\n",
       "      <td>100</td>\n",
       "      <td>50</td>\n",
       "      <td>40</td>\n",
       "      <td>20</td>\n",
       "      <td>20</td>\n",
       "      <td>60</td>\n",
       "      <td>...</td>\n",
       "      <td>0</td>\n",
       "      <td>0</td>\n",
       "      <td>0</td>\n",
       "      <td>0</td>\n",
       "      <td>34</td>\n",
       "      <td>15</td>\n",
       "      <td>2.0</td>\n",
       "      <td>2.0</td>\n",
       "      <td>0</td>\n",
       "      <td>0</td>\n",
       "    </tr>\n",
       "  </tbody>\n",
       "</table>\n",
       "<p>1192 rows × 47 columns</p>\n",
       "</div>"
      ],
      "text/plain": [
       "       C1  C2  CR   S1   S2   S3   S4   S5   S6   S7  ...  SM5  SM6  SM7  SM8  \\\n",
       "0      84  50   0  100    0  100   40  100   40  100  ...    0  100  100  100   \n",
       "1      43  55  55  100   60  100    0   80   80  100  ...  100  100  100  100   \n",
       "2      73  40   0  100  100  100  100   80  100  100  ...  100  100  100  100   \n",
       "3     100  85   0  100  100  100  100  100  100  100  ...  100  100  100  100   \n",
       "4      90  15  20  100  100  100   80  100   80  100  ...  100  100  100  100   \n",
       "...   ...  ..  ..  ...  ...  ...  ...  ...  ...  ...  ...  ...  ...  ...  ...   \n",
       "1187    0  90  50    0   60   75   80   80   40  100  ...    0    0    0    0   \n",
       "1188   86  30   0  100  100  100  100    0   60  100  ...    0    0    0    0   \n",
       "1189   89  90   0  100  100  100   60  100  100  100  ...  100  100  100    0   \n",
       "1190   86  30   0  100   60   12   60   80   60   80  ...  100  100    0  100   \n",
       "1191   37  30   0  100  100   50   40   20   20   60  ...    0    0    0    0   \n",
       "\n",
       "      NF  Carrera  Campus  Sem  Sexo  Apr  \n",
       "0     66       10     1.0  2.0     0    1  \n",
       "1     70       10     1.0  2.0     1    1  \n",
       "2     64       10     1.0  2.0     0    1  \n",
       "3     95       10     1.0  2.0     0    1  \n",
       "4     70       11     1.0  2.0     0    1  \n",
       "...   ..      ...     ...  ...   ...  ...  \n",
       "1187  49       15     2.0  2.0     0    0  \n",
       "1188  65       15     2.0  2.0     0    1  \n",
       "1189  93       15     2.0  2.0     1    1  \n",
       "1190  60       15     2.0  2.0     0    1  \n",
       "1191  34       15     2.0  2.0     0    0  \n",
       "\n",
       "[1192 rows x 47 columns]"
      ]
     },
     "execution_count": 227,
     "metadata": {},
     "output_type": "execute_result"
    }
   ],
   "source": [
    "df_val = pd.read_csv('../2021-02.csv',dtype={'Campus':float,'Sem':float}).iloc[:,1:]\n",
    "df_val.head()\n",
    "df_val.drop(columns=['Depto'],inplace=True)\n",
    "df_val"
   ]
  },
  {
   "cell_type": "code",
   "execution_count": 228,
   "id": "661104d4-c4d7-466b-b4d0-26f66a153eab",
   "metadata": {},
   "outputs": [],
   "source": [
    "for i in df_val.columns:\n",
    "    if  i in ['Apr','Carrera','Campus','Sem']:\n",
    "        continue\n",
    "    q1,q2,q3= df[i].quantile([0.25,0.5,0.75])\n",
    "    IQR = q3-q1\n",
    "    lower_cap = q1-1.5*IQR\n",
    "    upper_cap = q3+1.5*IQR\n",
    "    df_kmeans[i]= df_val[i].apply(lambda x:upper_cap if x>(upper_cap) else (lower_cap if x< lower_cap else x ))"
   ]
  },
  {
   "cell_type": "code",
   "execution_count": 229,
   "id": "f6ef0f61-903f-4b33-bbe3-08ca664cddde",
   "metadata": {},
   "outputs": [],
   "source": [
    "_df_val=pd.get_dummies(data=parametrize(df_val),columns=['Campus','Sexo'])"
   ]
  },
  {
   "cell_type": "code",
   "execution_count": 230,
   "id": "a1cd166b-bf9d-4294-ab7b-55b6ee423589",
   "metadata": {},
   "outputs": [],
   "source": [
    "_df_val.fillna(0,inplace=True)"
   ]
  },
  {
   "cell_type": "code",
   "execution_count": 231,
   "id": "482ce555-f930-4573-b4de-1018a8c8de49",
   "metadata": {},
   "outputs": [],
   "source": [
    "scores_pca2 = pca.transform(_df_val)"
   ]
  },
  {
   "cell_type": "code",
   "execution_count": 101,
   "id": "05350249-21de-48ba-9ae7-98288fdb0c5d",
   "metadata": {},
   "outputs": [],
   "source": [
    "labels2 = km.predict(scores_pca2)"
   ]
  },
  {
   "cell_type": "code",
   "execution_count": 136,
   "id": "c3d872ff-c2cf-45c4-a15d-152ba16f192d",
   "metadata": {},
   "outputs": [
    {
     "data": {
      "text/plain": [
       "0.2948525630223889"
      ]
     },
     "execution_count": 136,
     "metadata": {},
     "output_type": "execute_result"
    }
   ],
   "source": [
    "silhouette_score(scores_pca,labels)"
   ]
  },
  {
   "cell_type": "code",
   "execution_count": 225,
   "id": "ce42796f-b48c-4e6f-8051-785212f2f24c",
   "metadata": {},
   "outputs": [
    {
     "data": {
      "text/plain": [
       "NearestCentroid()"
      ]
     },
     "execution_count": 225,
     "metadata": {},
     "output_type": "execute_result"
    }
   ],
   "source": [
    "centroides=NearestCentroid()\n",
    "centroides.fit(scores_pca,df.labels)"
   ]
  },
  {
   "cell_type": "code",
   "execution_count": 233,
   "id": "12016628-b729-4d43-8ed9-7acf31179b0f",
   "metadata": {},
   "outputs": [],
   "source": [
    "labels_euc = []\n",
    "for index,i in enumerate(scores_pca2):\n",
    "    dist = [euclidean_distances([i],[centroides.centroids_[j]]) for j in range(5)]\n",
    "    labels_euc.append(np.argmin(dist))\n"
   ]
  },
  {
   "cell_type": "code",
   "execution_count": 234,
   "id": "d63bc2df-b628-43ca-bbe0-2f7de04df7bb",
   "metadata": {},
   "outputs": [],
   "source": [
    "df_par = parametrize(df_val)\n",
    "df_par['labels']=labels_euc"
   ]
  },
  {
   "cell_type": "code",
   "execution_count": 235,
   "id": "af3f12a2-9085-4264-b992-825d39c7c872",
   "metadata": {},
   "outputs": [
    {
     "data": {
      "text/html": [
       "<div>\n",
       "<style scoped>\n",
       "    .dataframe tbody tr th:only-of-type {\n",
       "        vertical-align: middle;\n",
       "    }\n",
       "\n",
       "    .dataframe tbody tr th {\n",
       "        vertical-align: top;\n",
       "    }\n",
       "\n",
       "    .dataframe thead th {\n",
       "        text-align: right;\n",
       "    }\n",
       "</style>\n",
       "<table border=\"1\" class=\"dataframe\">\n",
       "  <thead>\n",
       "    <tr style=\"text-align: right;\">\n",
       "      <th></th>\n",
       "      <th>C1</th>\n",
       "      <th>C2</th>\n",
       "      <th>CR</th>\n",
       "      <th>S1</th>\n",
       "      <th>S2</th>\n",
       "      <th>S3</th>\n",
       "      <th>S4</th>\n",
       "      <th>S5</th>\n",
       "      <th>S6</th>\n",
       "      <th>S7</th>\n",
       "      <th>...</th>\n",
       "      <th>SM6</th>\n",
       "      <th>SM7</th>\n",
       "      <th>SM8</th>\n",
       "      <th>NF</th>\n",
       "      <th>Carrera</th>\n",
       "      <th>Campus</th>\n",
       "      <th>Sem</th>\n",
       "      <th>Sexo</th>\n",
       "      <th>Apr</th>\n",
       "      <th>labels</th>\n",
       "    </tr>\n",
       "  </thead>\n",
       "  <tbody>\n",
       "    <tr>\n",
       "      <th>0</th>\n",
       "      <td>4</td>\n",
       "      <td>2</td>\n",
       "      <td>0</td>\n",
       "      <td>4</td>\n",
       "      <td>0</td>\n",
       "      <td>4</td>\n",
       "      <td>1</td>\n",
       "      <td>4</td>\n",
       "      <td>1</td>\n",
       "      <td>4</td>\n",
       "      <td>...</td>\n",
       "      <td>4</td>\n",
       "      <td>4</td>\n",
       "      <td>4</td>\n",
       "      <td>4</td>\n",
       "      <td>10</td>\n",
       "      <td>1.0</td>\n",
       "      <td>2.0</td>\n",
       "      <td>0</td>\n",
       "      <td>1</td>\n",
       "      <td>4</td>\n",
       "    </tr>\n",
       "    <tr>\n",
       "      <th>1</th>\n",
       "      <td>1</td>\n",
       "      <td>2</td>\n",
       "      <td>2</td>\n",
       "      <td>4</td>\n",
       "      <td>3</td>\n",
       "      <td>4</td>\n",
       "      <td>0</td>\n",
       "      <td>4</td>\n",
       "      <td>4</td>\n",
       "      <td>4</td>\n",
       "      <td>...</td>\n",
       "      <td>4</td>\n",
       "      <td>4</td>\n",
       "      <td>4</td>\n",
       "      <td>4</td>\n",
       "      <td>10</td>\n",
       "      <td>1.0</td>\n",
       "      <td>2.0</td>\n",
       "      <td>1</td>\n",
       "      <td>1</td>\n",
       "      <td>4</td>\n",
       "    </tr>\n",
       "    <tr>\n",
       "      <th>2</th>\n",
       "      <td>4</td>\n",
       "      <td>1</td>\n",
       "      <td>0</td>\n",
       "      <td>4</td>\n",
       "      <td>4</td>\n",
       "      <td>4</td>\n",
       "      <td>4</td>\n",
       "      <td>4</td>\n",
       "      <td>4</td>\n",
       "      <td>4</td>\n",
       "      <td>...</td>\n",
       "      <td>4</td>\n",
       "      <td>4</td>\n",
       "      <td>4</td>\n",
       "      <td>3</td>\n",
       "      <td>10</td>\n",
       "      <td>1.0</td>\n",
       "      <td>2.0</td>\n",
       "      <td>0</td>\n",
       "      <td>1</td>\n",
       "      <td>4</td>\n",
       "    </tr>\n",
       "    <tr>\n",
       "      <th>3</th>\n",
       "      <td>4</td>\n",
       "      <td>4</td>\n",
       "      <td>0</td>\n",
       "      <td>4</td>\n",
       "      <td>4</td>\n",
       "      <td>4</td>\n",
       "      <td>4</td>\n",
       "      <td>4</td>\n",
       "      <td>4</td>\n",
       "      <td>4</td>\n",
       "      <td>...</td>\n",
       "      <td>4</td>\n",
       "      <td>4</td>\n",
       "      <td>4</td>\n",
       "      <td>4</td>\n",
       "      <td>10</td>\n",
       "      <td>1.0</td>\n",
       "      <td>2.0</td>\n",
       "      <td>0</td>\n",
       "      <td>1</td>\n",
       "      <td>4</td>\n",
       "    </tr>\n",
       "    <tr>\n",
       "      <th>4</th>\n",
       "      <td>4</td>\n",
       "      <td>1</td>\n",
       "      <td>1</td>\n",
       "      <td>4</td>\n",
       "      <td>4</td>\n",
       "      <td>4</td>\n",
       "      <td>4</td>\n",
       "      <td>4</td>\n",
       "      <td>4</td>\n",
       "      <td>4</td>\n",
       "      <td>...</td>\n",
       "      <td>4</td>\n",
       "      <td>4</td>\n",
       "      <td>4</td>\n",
       "      <td>4</td>\n",
       "      <td>11</td>\n",
       "      <td>1.0</td>\n",
       "      <td>2.0</td>\n",
       "      <td>0</td>\n",
       "      <td>1</td>\n",
       "      <td>4</td>\n",
       "    </tr>\n",
       "    <tr>\n",
       "      <th>...</th>\n",
       "      <td>...</td>\n",
       "      <td>...</td>\n",
       "      <td>...</td>\n",
       "      <td>...</td>\n",
       "      <td>...</td>\n",
       "      <td>...</td>\n",
       "      <td>...</td>\n",
       "      <td>...</td>\n",
       "      <td>...</td>\n",
       "      <td>...</td>\n",
       "      <td>...</td>\n",
       "      <td>...</td>\n",
       "      <td>...</td>\n",
       "      <td>...</td>\n",
       "      <td>...</td>\n",
       "      <td>...</td>\n",
       "      <td>...</td>\n",
       "      <td>...</td>\n",
       "      <td>...</td>\n",
       "      <td>...</td>\n",
       "      <td>...</td>\n",
       "    </tr>\n",
       "    <tr>\n",
       "      <th>1187</th>\n",
       "      <td>0</td>\n",
       "      <td>4</td>\n",
       "      <td>2</td>\n",
       "      <td>0</td>\n",
       "      <td>3</td>\n",
       "      <td>4</td>\n",
       "      <td>4</td>\n",
       "      <td>4</td>\n",
       "      <td>1</td>\n",
       "      <td>4</td>\n",
       "      <td>...</td>\n",
       "      <td>0</td>\n",
       "      <td>0</td>\n",
       "      <td>0</td>\n",
       "      <td>2</td>\n",
       "      <td>15</td>\n",
       "      <td>2.0</td>\n",
       "      <td>2.0</td>\n",
       "      <td>0</td>\n",
       "      <td>0</td>\n",
       "      <td>1</td>\n",
       "    </tr>\n",
       "    <tr>\n",
       "      <th>1188</th>\n",
       "      <td>4</td>\n",
       "      <td>1</td>\n",
       "      <td>0</td>\n",
       "      <td>4</td>\n",
       "      <td>4</td>\n",
       "      <td>4</td>\n",
       "      <td>4</td>\n",
       "      <td>0</td>\n",
       "      <td>3</td>\n",
       "      <td>4</td>\n",
       "      <td>...</td>\n",
       "      <td>0</td>\n",
       "      <td>0</td>\n",
       "      <td>0</td>\n",
       "      <td>3</td>\n",
       "      <td>15</td>\n",
       "      <td>2.0</td>\n",
       "      <td>2.0</td>\n",
       "      <td>0</td>\n",
       "      <td>1</td>\n",
       "      <td>1</td>\n",
       "    </tr>\n",
       "    <tr>\n",
       "      <th>1189</th>\n",
       "      <td>4</td>\n",
       "      <td>4</td>\n",
       "      <td>0</td>\n",
       "      <td>4</td>\n",
       "      <td>4</td>\n",
       "      <td>4</td>\n",
       "      <td>3</td>\n",
       "      <td>4</td>\n",
       "      <td>4</td>\n",
       "      <td>4</td>\n",
       "      <td>...</td>\n",
       "      <td>4</td>\n",
       "      <td>4</td>\n",
       "      <td>0</td>\n",
       "      <td>4</td>\n",
       "      <td>15</td>\n",
       "      <td>2.0</td>\n",
       "      <td>2.0</td>\n",
       "      <td>1</td>\n",
       "      <td>1</td>\n",
       "      <td>4</td>\n",
       "    </tr>\n",
       "    <tr>\n",
       "      <th>1190</th>\n",
       "      <td>4</td>\n",
       "      <td>1</td>\n",
       "      <td>0</td>\n",
       "      <td>4</td>\n",
       "      <td>3</td>\n",
       "      <td>1</td>\n",
       "      <td>3</td>\n",
       "      <td>4</td>\n",
       "      <td>3</td>\n",
       "      <td>4</td>\n",
       "      <td>...</td>\n",
       "      <td>4</td>\n",
       "      <td>0</td>\n",
       "      <td>4</td>\n",
       "      <td>3</td>\n",
       "      <td>15</td>\n",
       "      <td>2.0</td>\n",
       "      <td>2.0</td>\n",
       "      <td>0</td>\n",
       "      <td>1</td>\n",
       "      <td>4</td>\n",
       "    </tr>\n",
       "    <tr>\n",
       "      <th>1191</th>\n",
       "      <td>1</td>\n",
       "      <td>1</td>\n",
       "      <td>0</td>\n",
       "      <td>4</td>\n",
       "      <td>4</td>\n",
       "      <td>2</td>\n",
       "      <td>1</td>\n",
       "      <td>1</td>\n",
       "      <td>1</td>\n",
       "      <td>3</td>\n",
       "      <td>...</td>\n",
       "      <td>0</td>\n",
       "      <td>0</td>\n",
       "      <td>0</td>\n",
       "      <td>1</td>\n",
       "      <td>15</td>\n",
       "      <td>2.0</td>\n",
       "      <td>2.0</td>\n",
       "      <td>0</td>\n",
       "      <td>0</td>\n",
       "      <td>1</td>\n",
       "    </tr>\n",
       "  </tbody>\n",
       "</table>\n",
       "<p>1192 rows × 48 columns</p>\n",
       "</div>"
      ],
      "text/plain": [
       "      C1  C2  CR  S1  S2  S3  S4  S5  S6  S7  ...  SM6  SM7  SM8  NF  Carrera  \\\n",
       "0      4   2   0   4   0   4   1   4   1   4  ...    4    4    4   4       10   \n",
       "1      1   2   2   4   3   4   0   4   4   4  ...    4    4    4   4       10   \n",
       "2      4   1   0   4   4   4   4   4   4   4  ...    4    4    4   3       10   \n",
       "3      4   4   0   4   4   4   4   4   4   4  ...    4    4    4   4       10   \n",
       "4      4   1   1   4   4   4   4   4   4   4  ...    4    4    4   4       11   \n",
       "...   ..  ..  ..  ..  ..  ..  ..  ..  ..  ..  ...  ...  ...  ...  ..      ...   \n",
       "1187   0   4   2   0   3   4   4   4   1   4  ...    0    0    0   2       15   \n",
       "1188   4   1   0   4   4   4   4   0   3   4  ...    0    0    0   3       15   \n",
       "1189   4   4   0   4   4   4   3   4   4   4  ...    4    4    0   4       15   \n",
       "1190   4   1   0   4   3   1   3   4   3   4  ...    4    0    4   3       15   \n",
       "1191   1   1   0   4   4   2   1   1   1   3  ...    0    0    0   1       15   \n",
       "\n",
       "      Campus  Sem  Sexo  Apr  labels  \n",
       "0        1.0  2.0     0    1       4  \n",
       "1        1.0  2.0     1    1       4  \n",
       "2        1.0  2.0     0    1       4  \n",
       "3        1.0  2.0     0    1       4  \n",
       "4        1.0  2.0     0    1       4  \n",
       "...      ...  ...   ...  ...     ...  \n",
       "1187     2.0  2.0     0    0       1  \n",
       "1188     2.0  2.0     0    1       1  \n",
       "1189     2.0  2.0     1    1       4  \n",
       "1190     2.0  2.0     0    1       4  \n",
       "1191     2.0  2.0     0    0       1  \n",
       "\n",
       "[1192 rows x 48 columns]"
      ]
     },
     "execution_count": 235,
     "metadata": {},
     "output_type": "execute_result"
    }
   ],
   "source": [
    "df_par"
   ]
  },
  {
   "cell_type": "code",
   "execution_count": 236,
   "id": "d592664f-fdf7-411c-9a5b-c6fae0d3c9e7",
   "metadata": {},
   "outputs": [
    {
     "data": {
      "text/html": [
       "<div>\n",
       "<style scoped>\n",
       "    .dataframe tbody tr th:only-of-type {\n",
       "        vertical-align: middle;\n",
       "    }\n",
       "\n",
       "    .dataframe tbody tr th {\n",
       "        vertical-align: top;\n",
       "    }\n",
       "\n",
       "    .dataframe thead th {\n",
       "        text-align: right;\n",
       "    }\n",
       "</style>\n",
       "<table border=\"1\" class=\"dataframe\">\n",
       "  <thead>\n",
       "    <tr style=\"text-align: right;\">\n",
       "      <th></th>\n",
       "      <th>labels</th>\n",
       "      <th>0</th>\n",
       "      <th>1</th>\n",
       "      <th>2</th>\n",
       "      <th>3</th>\n",
       "      <th>4</th>\n",
       "    </tr>\n",
       "  </thead>\n",
       "  <tbody>\n",
       "    <tr>\n",
       "      <th rowspan=\"2\" valign=\"top\">Sexo</th>\n",
       "      <th>0.0</th>\n",
       "      <td>1.000000</td>\n",
       "      <td>0.700535</td>\n",
       "      <td>0.939394</td>\n",
       "      <td>0.769504</td>\n",
       "      <td>0.699387</td>\n",
       "    </tr>\n",
       "    <tr>\n",
       "      <th>1.0</th>\n",
       "      <td>0.000000</td>\n",
       "      <td>0.299465</td>\n",
       "      <td>0.060606</td>\n",
       "      <td>0.230496</td>\n",
       "      <td>0.300613</td>\n",
       "    </tr>\n",
       "    <tr>\n",
       "      <th>Semestre</th>\n",
       "      <th>2.0</th>\n",
       "      <td>1.000000</td>\n",
       "      <td>1.000000</td>\n",
       "      <td>1.000000</td>\n",
       "      <td>1.000000</td>\n",
       "      <td>1.000000</td>\n",
       "    </tr>\n",
       "    <tr>\n",
       "      <th rowspan=\"3\" valign=\"top\">Campus</th>\n",
       "      <th>0.0</th>\n",
       "      <td>0.421053</td>\n",
       "      <td>0.572193</td>\n",
       "      <td>0.515152</td>\n",
       "      <td>0.173759</td>\n",
       "      <td>0.595092</td>\n",
       "    </tr>\n",
       "    <tr>\n",
       "      <th>1.0</th>\n",
       "      <td>0.526316</td>\n",
       "      <td>0.347594</td>\n",
       "      <td>0.454545</td>\n",
       "      <td>0.319149</td>\n",
       "      <td>0.352761</td>\n",
       "    </tr>\n",
       "    <tr>\n",
       "      <th>2.0</th>\n",
       "      <td>0.052632</td>\n",
       "      <td>0.080214</td>\n",
       "      <td>0.030303</td>\n",
       "      <td>0.507092</td>\n",
       "      <td>0.052147</td>\n",
       "    </tr>\n",
       "    <tr>\n",
       "      <th rowspan=\"2\" valign=\"top\">Aprobación</th>\n",
       "      <th>0.0</th>\n",
       "      <td>0.763158</td>\n",
       "      <td>0.604278</td>\n",
       "      <td>0.000000</td>\n",
       "      <td>0.113475</td>\n",
       "      <td>0.098160</td>\n",
       "    </tr>\n",
       "    <tr>\n",
       "      <th>1.0</th>\n",
       "      <td>0.236842</td>\n",
       "      <td>0.395722</td>\n",
       "      <td>1.000000</td>\n",
       "      <td>0.886525</td>\n",
       "      <td>0.901840</td>\n",
       "    </tr>\n",
       "    <tr>\n",
       "      <th rowspan=\"4\" valign=\"top\">Nota</th>\n",
       "      <th>1.0</th>\n",
       "      <td>0.631579</td>\n",
       "      <td>0.470588</td>\n",
       "      <td>0.000000</td>\n",
       "      <td>0.092199</td>\n",
       "      <td>0.067485</td>\n",
       "    </tr>\n",
       "    <tr>\n",
       "      <th>2.0</th>\n",
       "      <td>0.131579</td>\n",
       "      <td>0.165775</td>\n",
       "      <td>0.000000</td>\n",
       "      <td>0.024823</td>\n",
       "      <td>0.030675</td>\n",
       "    </tr>\n",
       "    <tr>\n",
       "      <th>3.0</th>\n",
       "      <td>0.105263</td>\n",
       "      <td>0.229947</td>\n",
       "      <td>0.060606</td>\n",
       "      <td>0.053191</td>\n",
       "      <td>0.099693</td>\n",
       "    </tr>\n",
       "    <tr>\n",
       "      <th>4.0</th>\n",
       "      <td>0.131579</td>\n",
       "      <td>0.133690</td>\n",
       "      <td>0.939394</td>\n",
       "      <td>0.829787</td>\n",
       "      <td>0.802147</td>\n",
       "    </tr>\n",
       "  </tbody>\n",
       "</table>\n",
       "</div>"
      ],
      "text/plain": [
       "labels                 0         1         2         3         4\n",
       "Sexo       0.0  1.000000  0.700535  0.939394  0.769504  0.699387\n",
       "           1.0  0.000000  0.299465  0.060606  0.230496  0.300613\n",
       "Semestre   2.0  1.000000  1.000000  1.000000  1.000000  1.000000\n",
       "Campus     0.0  0.421053  0.572193  0.515152  0.173759  0.595092\n",
       "           1.0  0.526316  0.347594  0.454545  0.319149  0.352761\n",
       "           2.0  0.052632  0.080214  0.030303  0.507092  0.052147\n",
       "Aprobación 0.0  0.763158  0.604278  0.000000  0.113475  0.098160\n",
       "           1.0  0.236842  0.395722  1.000000  0.886525  0.901840\n",
       "Nota       1.0  0.631579  0.470588  0.000000  0.092199  0.067485\n",
       "           2.0  0.131579  0.165775  0.000000  0.024823  0.030675\n",
       "           3.0  0.105263  0.229947  0.060606  0.053191  0.099693\n",
       "           4.0  0.131579  0.133690  0.939394  0.829787  0.802147"
      ]
     },
     "execution_count": 236,
     "metadata": {},
     "output_type": "execute_result"
    }
   ],
   "source": [
    "((pd.concat(\n",
    "    [\n",
    "    pd.crosstab(df_par['labels'],df_par['Sexo'],normalize='index').T,\n",
    "    pd.crosstab(df_par['labels'],df_par['Sem'],normalize='index').T,\n",
    "    pd.crosstab(df_par['labels'],df_par['Campus'],normalize='index').T,\n",
    "    pd.crosstab(df_par['labels'],df_par['Apr'],normalize='index').T,\n",
    "    pd.crosstab(df_par['labels'],df_par['NF'],normalize='index').T\n",
    "    ]\n",
    "    ,keys=['Sexo','Semestre','Campus', 'Aprobación','Nota'])\n",
    "))"
   ]
  },
  {
   "cell_type": "code",
   "execution_count": 239,
   "id": "b09d632c-6ece-4b23-890d-0871532e22fb",
   "metadata": {},
   "outputs": [
    {
     "name": "stdout",
     "output_type": "stream",
     "text": [
      "Davies Bouldin Score: 1.5304223997251019\n",
      "Silhoutte Score: 0.23201452675562909\n",
      "Calinski harabasz Score: 1038.988997969902\n"
     ]
    }
   ],
   "source": [
    "from sklearn import metrics\n",
    "print( f'Davies Bouldin Score: {metrics.davies_bouldin_score(scores_pca,df.labels)}')\n",
    "print(f'Silhoutte Score: {metrics.silhouette_score(scores_pca,df.labels)}')\n",
    "print(f'Calinski harabasz Score: {metrics.calinski_harabasz_score(scores_pca,df.labels)}')"
   ]
  },
  {
   "cell_type": "code",
   "execution_count": null,
   "id": "4533e68f-517a-4ebf-aeb5-c26641e8088d",
   "metadata": {},
   "outputs": [],
   "source": []
  }
 ],
 "metadata": {
  "kernelspec": {
   "display_name": "Python 3 (ipykernel)",
   "language": "python",
   "name": "python3"
  },
  "language_info": {
   "codemirror_mode": {
    "name": "ipython",
    "version": 3
   },
   "file_extension": ".py",
   "mimetype": "text/x-python",
   "name": "python",
   "nbconvert_exporter": "python",
   "pygments_lexer": "ipython3",
   "version": "3.7.2"
  }
 },
 "nbformat": 4,
 "nbformat_minor": 5
}
